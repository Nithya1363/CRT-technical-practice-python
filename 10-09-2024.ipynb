{
 "cells": [
  {
   "cell_type": "code",
   "execution_count": 18,
   "metadata": {},
   "outputs": [
    {
     "name": "stdout",
     "output_type": "stream",
     "text": [
      "total number of pairs that can be formed are: 3\n"
     ]
    }
   ],
   "source": [
    "l=[2,3,1,2,2,3,2]\n",
    "s=set(l)\n",
    "p=0\n",
    "for i in s:\n",
    "    p+=(l.count(i)//2)\n",
    "print(f\"total number of pairs that can be formed are: {p}\")"
   ]
  },
  {
   "cell_type": "code",
   "execution_count": 19,
   "metadata": {},
   "outputs": [
    {
     "name": "stdout",
     "output_type": "stream",
     "text": [
      "total number of socks are 3\n"
     ]
    }
   ],
   "source": [
    "l=[2,3,1,2,2,3,2]\n",
    "dup = set()\n",
    "dup_count=0\n",
    "s=0\n",
    "for i in l:\n",
    "    if i not in dup:\n",
    "        dup.add(i)\n",
    "    else:\n",
    "        dup_count+=1\n",
    "        dup.remove(i)\n",
    "print(f\"total number of socks are {dup_count}\")"
   ]
  },
  {
   "cell_type": "code",
   "execution_count": 23,
   "metadata": {},
   "outputs": [
    {
     "name": "stdout",
     "output_type": "stream",
     "text": [
      "[2, 7]\n"
     ]
    }
   ],
   "source": [
    "def Occurrence(a,t): #O(n)\n",
    "    f,l=-1,-1\n",
    "    for i in range(len(a)):\n",
    "        if a[i]==t:\n",
    "            if f==-1:\n",
    "                f=i\n",
    "            l=i\n",
    "    return [f,l]\n",
    "l=list(map(int,input().split()))#[3,2,1,7,5,1,6,1,9]\n",
    "target=int(input())# 1\n",
    "print(Occurrence(l,target))"
   ]
  },
  {
   "cell_type": "code",
   "execution_count": 26,
   "metadata": {},
   "outputs": [
    {
     "name": "stdout",
     "output_type": "stream",
     "text": [
      "0\n"
     ]
    }
   ],
   "source": [
    "def fun(a,t):\n",
    "    if t<min(a):\n",
    "            return 0\n",
    "    if t>max(a):\n",
    "         return len(a)\n",
    "    if t in a:\n",
    "        return a.index(t)\n",
    "    else:\n",
    "        for i in range(len(a)-1):\n",
    "            if a[i]>t and a[i+1]<t:\n",
    "                return i+1\n",
    "l=list(map(int,input().split()))# 3 5 6 7 9 12\n",
    "ele=int(input())\n",
    "print(fun(l,ele))"
   ]
  },
  {
   "cell_type": "code",
   "execution_count": 4,
   "metadata": {},
   "outputs": [
    {
     "name": "stdout",
     "output_type": "stream",
     "text": [
      "6\n"
     ]
    }
   ],
   "source": [
    "def func(a,t):\n",
    "    l=0\n",
    "    h=len(a)-1\n",
    "    while l<=h:\n",
    "        m=(l+h)//2\n",
    "        if a[m]==t:\n",
    "            return m\n",
    "        elif a[m]>t:\n",
    "            h=m-1\n",
    "        else:\n",
    "            l=m+1\n",
    "    return l\n",
    "l=list(map(int,input().split()))# 3 5 6 7 9 12\n",
    "ele=int(input())\n",
    "print(func(l,ele))"
   ]
  }
 ],
 "metadata": {
  "kernelspec": {
   "display_name": "Python 3",
   "language": "python",
   "name": "python3"
  },
  "language_info": {
   "codemirror_mode": {
    "name": "ipython",
    "version": 3
   },
   "file_extension": ".py",
   "mimetype": "text/x-python",
   "name": "python",
   "nbconvert_exporter": "python",
   "pygments_lexer": "ipython3",
   "version": "3.12.4"
  }
 },
 "nbformat": 4,
 "nbformat_minor": 2
}
