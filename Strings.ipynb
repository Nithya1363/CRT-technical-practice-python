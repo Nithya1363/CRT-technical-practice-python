{
 "cells": [
  {
   "cell_type": "code",
   "execution_count": 11,
   "metadata": {},
   "outputs": [
    {
     "name": "stdout",
     "output_type": "stream",
     "text": [
      "3\n",
      "6\n"
     ]
    }
   ],
   "source": [
    "#Question 1\n",
    "#method 1\n",
    "t=int(input())\n",
    "for _  in range(t):\n",
    "    s=input()\n",
    "    if (len(s)//2)>s.count(\"a\"):\n",
    "        l=s.count('a')+1\n",
    "    else:\n",
    "        l=len(s)\n",
    "    print(l)"
   ]
  },
  {
   "cell_type": "code",
   "execution_count": 13,
   "metadata": {},
   "outputs": [
    {
     "name": "stdout",
     "output_type": "stream",
     "text": [
      "3\n",
      "6\n"
     ]
    }
   ],
   "source": [
    "#method 2\n",
    "def Count(s):\n",
    "    if (len(s)//2)>s.count(\"a\"):\n",
    "        l=s.count('a')+1\n",
    "    else:\n",
    "        l=len(s)\n",
    "    print(l)\n",
    "    return\n",
    "if __name__=='__main__':\n",
    "    t=int(input())\n",
    "    for _ in range(t):\n",
    "        s=input()\n",
    "        Count(s)"
   ]
  },
  {
   "cell_type": "code",
   "execution_count": 14,
   "metadata": {},
   "outputs": [
    {
     "name": "stdout",
     "output_type": "stream",
     "text": [
      "3\n",
      "6\n"
     ]
    }
   ],
   "source": [
    "#method 3\n",
    "def good(s):\n",
    "    count_a=s.count('a')\n",
    "    if count_a>len(s)//2:\n",
    "        return len(s)\n",
    "    else:\n",
    "        return 2*count_a-1\n",
    "if __name__=='__main__':\n",
    "    t=int(input().strip())\n",
    "    for _ in range(t):\n",
    "        s=input().strip()\n",
    "        print(good(s))"
   ]
  },
  {
   "cell_type": "code",
   "execution_count": 2,
   "metadata": {},
   "outputs": [
    {
     "name": "stdout",
     "output_type": "stream",
     "text": [
      "2\n",
      "0\n",
      "4\n",
      "2\n"
     ]
    }
   ],
   "source": [
    "#Question 2:\n",
    "#Method 1\n",
    "t=int(input())\n",
    "for _ in range(t):\n",
    "    s=input()\n",
    "    operations=0\n",
    "    for i in range(len(s)//2):\n",
    "        operations+=abs(ord(s[i])-ord(s[len(s)-i-1]))\n",
    "    print(operations)"
   ]
  },
  {
   "cell_type": "code",
   "execution_count": 3,
   "metadata": {},
   "outputs": [
    {
     "name": "stdout",
     "output_type": "stream",
     "text": [
      "Repeated subsequence is present\n"
     ]
    }
   ],
   "source": [
    "#Question 3:\n",
    "def palindrome(s):\n",
    "    (low,high)=(0,len(s)-1)\n",
    "    while low<high:\n",
    "        if s[low]!=s[high]:\n",
    "            return False\n",
    "        low+=1\n",
    "        high-=1\n",
    "    return True\n",
    "def repeatsub(s):\n",
    "    if not s:\n",
    "        return False\n",
    "    fre={}\n",
    "    for c in s:\n",
    "        fre[c]=fre.get(c,0)+1\n",
    "        if fre.get(c) >= 3: # type: ignore\n",
    "            return True\n",
    "    repeated=[c for c in s if fre.get(c)>=2] # type: ignore\n",
    "    return not palindrome(repeated)\n",
    "if __name__ == '__main__':\n",
    " \n",
    "    s = 'XYBYAXB'\n",
    "    if repeatsub(s):\n",
    "        print('Repeated subsequence is present')\n",
    "    else:\n",
    "        print('No repeated subsequence is present')"
   ]
  },
  {
   "cell_type": "code",
   "execution_count": 5,
   "metadata": {},
   "outputs": [
    {
     "name": "stdout",
     "output_type": "stream",
     "text": [
      "YES\n",
      "NO\n"
     ]
    }
   ],
   "source": [
    "#Question 4: method 1\n",
    "test=int(input())\n",
    "for _ in range(test):\n",
    "    s=input()\n",
    "    t=input()\n",
    "    if t in s:\n",
    "        print(\"YES\")\n",
    "    else:\n",
    "        print(\"NO\")"
   ]
  },
  {
   "cell_type": "code",
   "execution_count": 6,
   "metadata": {},
   "outputs": [
    {
     "name": "stdout",
     "output_type": "stream",
     "text": [
      "YES\n",
      "NO\n"
     ]
    }
   ],
   "source": [
    "#method 2\n",
    "def Sub(s,t):\n",
    "    if t in s:\n",
    "        return \"YES\"\n",
    "    else:\n",
    "        return \"NO\"\n",
    "if __name__=='__main__':\n",
    "    test=int(input())\n",
    "    for _ in range(test):\n",
    "        s=input()\n",
    "        t=input()\n",
    "        print(Sub(s,t))"
   ]
  },
  {
   "cell_type": "code",
   "execution_count": null,
   "metadata": {},
   "outputs": [],
   "source": [
    "#Question 4 method 3\n",
    "t=int(input())\n",
    "for _ in range(t):\n",
    "    s,t=input().split()\n",
    "    c=0\n",
    "    for i in s:\n",
    "        if i==t[c]:\n",
    "            c+=1\n",
    "            if c==len(t):\n",
    "                break\n",
    "        else:\n",
    "            c=0\n",
    "            if i==t[c]:\n",
    "                c+=1\n",
    "    if c==len(t):\n",
    "        print(\"YES\")\n",
    "    else:\n",
    "        print(\"NO\")"
   ]
  },
  {
   "cell_type": "code",
   "execution_count": 8,
   "metadata": {},
   "outputs": [
    {
     "name": "stdout",
     "output_type": "stream",
     "text": [
      "6\n"
     ]
    }
   ],
   "source": [
    "#Question 5\n",
    "t=int(input())\n",
    "for _ in range(t):\n",
    "    s=input()\n",
    "    n=len(s)\n",
    "    c=0\n",
    "    for i in range(n):\n",
    "        for j in range(i+1,n):\n",
    "            if 'aman'in s[i:j+1]:\n",
    "                c+=1\n",
    "    print(c)"
   ]
  },
  {
   "cell_type": "code",
   "execution_count": 17,
   "metadata": {},
   "outputs": [
    {
     "name": "stdout",
     "output_type": "stream",
     "text": [
      "3\n"
     ]
    }
   ],
   "source": [
    "#Question 6:\n",
    "s=input().strip()\n",
    "c=0\n",
    "dp=[0]*(len(s)+1)\n",
    "for i in range(len(s)):\n",
    "    if s[i]=='0':\n",
    "        dp[i+1]=min(c,dp[i]+1)\n",
    "    else:\n",
    "        c+=1\n",
    "        dp[i+1]=dp[i]\n",
    "res=dp[len(s)]\n",
    "print(res)"
   ]
  }
 ],
 "metadata": {
  "kernelspec": {
   "display_name": "Python 3",
   "language": "python",
   "name": "python3"
  },
  "language_info": {
   "codemirror_mode": {
    "name": "ipython",
    "version": 3
   },
   "file_extension": ".py",
   "mimetype": "text/x-python",
   "name": "python",
   "nbconvert_exporter": "python",
   "pygments_lexer": "ipython3",
   "version": "3.12.4"
  }
 },
 "nbformat": 4,
 "nbformat_minor": 2
}
