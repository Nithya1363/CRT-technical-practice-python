{
 "cells": [
  {
   "cell_type": "code",
   "execution_count": 21,
   "metadata": {},
   "outputs": [
    {
     "name": "stdout",
     "output_type": "stream",
     "text": [
      "NUMBER OF CANDIES SOLD : 3\n",
      "NUMBER OF CANDIES AVAILABLE : 7\n"
     ]
    }
   ],
   "source": [
    "#18-07-2024\n",
    "#question 1\n",
    "N=10\n",
    "sold=int(input())\n",
    "if 5>=sold>0 :\n",
    "    print(f\"NUMBER OF CANDIES SOLD : {sold}\")\n",
    "    print(f\"NUMBER OF CANDIES AVAILABLE : {N-sold}\")\n",
    "else:\n",
    "    print(\"INVALID INPUT\")\n",
    "    print(f\"NUMBER OF CANDIES LEFT : {N}\")"
   ]
  },
  {
   "cell_type": "code",
   "execution_count": 22,
   "metadata": {},
   "outputs": [
    {
     "name": "stdout",
     "output_type": "stream",
     "text": [
      "Time Estimated: 25 minutes\n"
     ]
    }
   ],
   "source": [
    "#question 2\n",
    "weight=int(input())\n",
    "if 0<weight<=2000:\n",
    "    print(\"Time Estimated: 25 minutes\")\n",
    "elif 2001<=weight<4000:\n",
    "    print(\"Time Estimated: 35 minutes\")\n",
    "elif 4001<=weight<7000:\n",
    "    print(\"Time Estimated: 45 minutes\")   \n",
    "else:\n",
    "    print(\"OVERLOADED\")"
   ]
  },
  {
   "cell_type": "code",
   "execution_count": 4,
   "metadata": {},
   "outputs": [
    {
     "name": "stdout",
     "output_type": "stream",
     "text": [
      "Total estimated Cost : 1847.4 INR\n"
     ]
    }
   ],
   "source": [
    "#question 3\n",
    "I=int(input())\n",
    "E=int(input())\n",
    "isum=0\n",
    "esum=0\n",
    "for i in range(I):\n",
    "    iw=float(input())\n",
    "    isum+=iw\n",
    "for i in range(E):\n",
    "    ew=float(input())\n",
    "    esum+=ew\n",
    "if E and I == 0:\n",
    "    print(\"Invalid\")\n",
    "else:\n",
    "    cost=(esum*12)+(isum*18)\n",
    "print(f\"Total estimated Cost : {cost} INR\")"
   ]
  },
  {
   "cell_type": "code",
   "execution_count": 9,
   "metadata": {},
   "outputs": [
    {
     "name": "stdout",
     "output_type": "stream",
     "text": [
      "TOTAL MEMBERS:3\n",
      " COMMISSION DETAILS \n",
      " Teja:1000 INR\n",
      "Lavanya:250 INR\n",
      "Nithya:250 INR\n"
     ]
    }
   ],
   "source": [
    "parent=input()\n",
    "y_n=input()\n",
    "if y_n==\"N\":\n",
    "    print(f\"TOTAL MEMBERS: {len(parent)}\\nCOMMISSION DETAILS\\n{parent}:250 INR\")\n",
    "elif y_n==\"Y\":\n",
    "    child=list(map(str,input().split(',')))\n",
    "    print(f\"TOTAL MEMBERS:{len(child)+1}\\n COMMISSION DETAILS \\n {parent}:{len(child)*500} INR\")\n",
    "for i in child:\n",
    "    print(f\"{i}:250 INR\")\n"
   ]
  },
  {
   "cell_type": "code",
   "execution_count": 1,
   "metadata": {},
   "outputs": [
    {
     "name": "stdout",
     "output_type": "stream",
     "text": [
      "543201\n",
      "543201\n",
      "543201\n"
     ]
    }
   ],
   "source": [
    "#Reverse of a number\n",
    "# Question 5    date:19-07-2024\n",
    "#Method-1\n",
    "n=int(input())\n",
    "rev,rem=0,0\n",
    "while(n>0):\n",
    "    rem=n%10\n",
    "    rev=rev*10+rem\n",
    "    n=n//10\n",
    "print(rev)\n",
    "#method-2\n",
    "s=input()\n",
    "print(s[::-1])\n",
    "#method-3\n",
    "a=input()\n",
    "rev=\"\"\n",
    "for i in a:\n",
    "    rev=i+rev\n",
    "print(rev)"
   ]
  },
  {
   "cell_type": "code",
   "execution_count": 6,
   "metadata": {},
   "outputs": [
    {
     "name": "stdout",
     "output_type": "stream",
     "text": [
      "2\n"
     ]
    }
   ],
   "source": [
    "#Question 6\n",
    "test=int(input())\n",
    "cnt=0\n",
    "for i in range(test):\n",
    "    ti,ci=map(int,input().split())\n",
    "    if (ti+2)<=ci:\n",
    "        cnt+=1\n",
    "print(cnt)"
   ]
  },
  {
   "cell_type": "code",
   "execution_count": 20,
   "metadata": {},
   "outputs": [
    {
     "name": "stdout",
     "output_type": "stream",
     "text": [
      "True\n",
      "False\n"
     ]
    }
   ],
   "source": [
    "test = int(input())\n",
    "s=0\n",
    "l=[]\n",
    "for i in range(test):\n",
    "    n = int(input())\n",
    "    l.append(i)\n",
    "for i in l:\n",
    "    j=1\n",
    "    s=0\n",
    "    while(j<i):\n",
    "        if i%j==0:\n",
    "            s+=j\n",
    "        j+=1\n",
    "    if s==i:\n",
    "        print(True)\n",
    "    else:\n",
    "        print(False)"
   ]
  },
  {
   "cell_type": "code",
   "execution_count": 17,
   "metadata": {},
   "outputs": [
    {
     "name": "stdout",
     "output_type": "stream",
     "text": [
      "0\n",
      "1\n",
      "5\n"
     ]
    }
   ],
   "source": [
    "#Question 8:\n",
    "test=int(input())\n",
    "for i in range(test):\n",
    "    m,r1,r2,r3=map(int,input().split())\n",
    "    if m%4==0:\n",
    "        print(0)\n",
    "    if m%4==1:\n",
    "        print(min(r1+r1+r1,r2+r1,r3))\n",
    "    if m%4==2:\n",
    "        print(min(r1+r1,r2))\n",
    "    if m%4==3:\n",
    "        print(r1)"
   ]
  },
  {
   "cell_type": "code",
   "execution_count": 8,
   "metadata": {},
   "outputs": [
    {
     "name": "stdout",
     "output_type": "stream",
     "text": [
      "8 2 1 \n",
      "5 11 36 6 2 1 \n"
     ]
    }
   ],
   "source": [
    "#Question 9:\n",
    "test=int(input())\n",
    "for i in range(test):\n",
    "    res=int(input())\n",
    "    print(res,end=' ')\n",
    "    while(res!=1):\n",
    "        if res%2==0:\n",
    "            res=int(res**0.5)\n",
    "            print(res,end=' ')\n",
    "        else:\n",
    "            res=int(res**1.5)\n",
    "            print(res,end=' ')\n",
    "    print()"
   ]
  },
  {
   "cell_type": "code",
   "execution_count": 2,
   "metadata": {},
   "outputs": [
    {
     "name": "stdout",
     "output_type": "stream",
     "text": [
      "yes\n",
      "no\n"
     ]
    }
   ],
   "source": [
    "#Question 10:\n",
    "test=int(input())\n",
    "for _ in range(test):\n",
    "    sh=list(map(int,input().split()))\n",
    "    freq={}\n",
    "    for i in sh:\n",
    "        freq[i]=freq.get(i,0)+1\n",
    "    if len(freq)!=3:\n",
    "        print('no')\n",
    "    else:\n",
    "        valid=True\n",
    "        for c in freq.values():\n",
    "            if c<4:\n",
    "                valid=False\n",
    "                break\n",
    "        if valid:\n",
    "            print('yes')\n",
    "        else:\n",
    "            print('no')"
   ]
  },
  {
   "cell_type": "code",
   "execution_count": 3,
   "metadata": {},
   "outputs": [
    {
     "name": "stdout",
     "output_type": "stream",
     "text": [
      "Safe\n"
     ]
    }
   ],
   "source": [
    "#Question 11\n",
    "n,m=map(int,input().split())\n",
    "dir=input()\n",
    "flag=False\n",
    "if m==1 and n==1:\n",
    "    print(\"unsafe\")\n",
    "else:\n",
    "    for a in range(1,n+1):\n",
    "        for b in range(1,m+1):\n",
    "            x=a\n",
    "            y=b\n",
    "            for i in dir:\n",
    "                if i=='L':\n",
    "                    y-=1\n",
    "                elif i=='R':\n",
    "                    y+=1\n",
    "                elif i=='F':\n",
    "                    x-=1\n",
    "                elif i=='B':\n",
    "                    x+=1\n",
    "                if x>n or y>m or x<=0 or y<=0:\n",
    "                    break\n",
    "            if x<=n and y<=m and x>0 and y>0:\n",
    "                flag = True\n",
    "                break\n",
    "        if flag:\n",
    "            break\n",
    "    if flag:\n",
    "        print(\"Safe\") \n",
    "    else:\n",
    "        print(\"Unsafe\")                   "
   ]
  },
  {
   "cell_type": "code",
   "execution_count": 12,
   "metadata": {},
   "outputs": [
    {
     "name": "stdout",
     "output_type": "stream",
     "text": [
      "[1, 2, 3, 5, 7, 11, 13, 17, 19, 23, 29, 31, 37, 41, 43, 47, 53, 59, 61, 67, 71, 73, 79, 83, 89, 97]\n",
      "74\n"
     ]
    }
   ],
   "source": [
    "#Question 12\n",
    "n=int(input())\n",
    "l=[]\n",
    "c=0\n",
    "for i in range(1,n+1):\n",
    "    if i%2==0 and i!=2:\n",
    "        c+=1\n",
    "        continue\n",
    "    if i%3==0 and i!=3:\n",
    "        c+=1\n",
    "        continue\n",
    "    if i%5==0 and i!=5:\n",
    "        c+=1\n",
    "        continue\n",
    "    if i%7==0 and i!=7:\n",
    "        c+=1\n",
    "        continue\n",
    "    if i%11==0 and i!=11:\n",
    "        c+=1\n",
    "        continue\n",
    "    l.append(i)\n",
    "print(l)\n",
    "print(c)"
   ]
  },
  {
   "cell_type": "code",
   "execution_count": 1,
   "metadata": {},
   "outputs": [
    {
     "name": "stdout",
     "output_type": "stream",
     "text": [
      "2\n"
     ]
    },
    {
     "data": {
      "text/plain": [
       "'\"t=int(input())\\nfor _ in range(t):\\n    n=int(input())\\n    while n>1:\\n        if n%2==0:\\n            n//=2\\n        else:\\n            n-=1\\n    print(n)'"
      ]
     },
     "execution_count": 1,
     "metadata": {},
     "output_type": "execute_result"
    }
   ],
   "source": [
    "#Question 13\n",
    "def f(n):\n",
    "    if n==0:\n",
    "        return 0\n",
    "    if n==1:\n",
    "        return 1\n",
    "    if n%2==0:\n",
    "        return f(n//2)\n",
    "    else:\n",
    "        return f(n-1)+1\n",
    "t=int(input())\n",
    "for i in range(t):\n",
    "    n=int(input())\n",
    "    print(f(n))\n",
    "#method-2\n",
    "\"\"\"\"t=int(input())\n",
    "for _ in range(t):\n",
    "    n=int(input())\n",
    "    while n>1:\n",
    "        if n%2==0:\n",
    "            n//=2\n",
    "        else:\n",
    "            n-=1\n",
    "    print(n)\"\"\""
   ]
  },
  {
   "cell_type": "code",
   "execution_count": 4,
   "metadata": {},
   "outputs": [
    {
     "name": "stdout",
     "output_type": "stream",
     "text": [
      "YES\n",
      "NO\n",
      "NO\n",
      "YES\n"
     ]
    }
   ],
   "source": [
    "#Question 14\n",
    "t=int(input())\n",
    "for i in range(t):\n",
    "    n=int(input())\n",
    "    c=0\n",
    "    for i in range(1,(n//2)+1):\n",
    "        if n%i==0:\n",
    "            c+=1\n",
    "    c+=1  \n",
    "    if c%2==0:\n",
    "        print(\"NO\")\n",
    "    else:\n",
    "        print(\"YES\")"
   ]
  },
  {
   "cell_type": "code",
   "execution_count": 17,
   "metadata": {},
   "outputs": [
    {
     "name": "stdout",
     "output_type": "stream",
     "text": [
      "4 2 6 2 2 0 2\n"
     ]
    }
   ],
   "source": [
    "#Question 15\n",
    "t = int(input())\n",
    "v = list(map(int,input().split()))\n",
    "d = []\n",
    "for i in range(t):\n",
    "    l,r=i,i\n",
    "    while l!=0 or r!=t-1:\n",
    "        if v[l]>v[i]:\n",
    "            d.append((i-l)*2)\n",
    "            break\n",
    "        elif v[r]>v[i]:\n",
    "            d.append((r-i)*2)\n",
    "            break\n",
    "        if l>0:\n",
    "            l-=1\n",
    "        if r<t-1:\n",
    "            r+=1\n",
    "        if l==0 and r==t-1:\n",
    "            d.append(0)\n",
    "print(*d)"
   ]
  },
  {
   "cell_type": "code",
   "execution_count": 8,
   "metadata": {},
   "outputs": [
    {
     "name": "stdout",
     "output_type": "stream",
     "text": [
      "10000\n"
     ]
    }
   ],
   "source": [
    "#Question 16:\n",
    "s=input()\n",
    "s1=input()\n",
    "res=''\n",
    "for i in range(len(s)):\n",
    "    if s[i]!=s1[i]:\n",
    "        res+='1'\n",
    "    else:\n",
    "        res+='0'\n",
    "print(res)"
   ]
  },
  {
   "cell_type": "code",
   "execution_count": 23,
   "metadata": {},
   "outputs": [
    {
     "name": "stdout",
     "output_type": "stream",
     "text": [
      "Welcome to CCD\n",
      "Enjoy your Espresso Coffee\n"
     ]
    }
   ],
   "source": [
    "#Question 17\n",
    "menu=[['espresso coffee','cappuccino coffee','latte coffee'],\n",
    "      ['plain tea','assam tea','ginger tea','cardamom tea','masala tea','lemon tea','green tea','organic darjeeling tea'],\n",
    "      ['hot and sour soup','veg corn soup','tomato soup','spicy tomato soup'],\n",
    "      ['hot chocolate drink','badam drink','badam pista drink']]\n",
    "m=input()\n",
    "if m=='c':\n",
    "    submenu=int(input())\n",
    "    if submenu in range(3):\n",
    "        print(f\"Welcome to CCD\\nEnjoy your {(menu[0][submenu-1]).title()}\")\n",
    "    else:\n",
    "        print(\"Invalid Input\")\n",
    "elif m=='t':  \n",
    "    submenu=int(input()) \n",
    "    if submenu in range(8):\n",
    "        print(f\"Welcome to CCD\\nEnjoy your {(menu[1][submenu-1]).title()}\")\n",
    "    else:\n",
    "        print(\"Invalid Input\")\n",
    "elif m=='s':\n",
    "    submenu=int(input())\n",
    "    if submenu in range(3):\n",
    "        print(f\"Welcome to CCD\\nEnjoy your {(menu[2][submenu-1]).title()}\")\n",
    "    else:\n",
    "        print(\"Invalid Input\")\n",
    "elif m=='b':\n",
    "    submenu=int(input())    \n",
    "    if submenu in range(2):\n",
    "        print(f\"Welcome to CCD\\nEnjoy your {(menu[3][submenu-1]).title()}\")\n",
    "    else:\n",
    "        print(\"Invalid Input\")\n",
    "else:\n",
    "    print(\"Invalid Input\")"
   ]
  },
  {
   "cell_type": "code",
   "execution_count": 4,
   "metadata": {},
   "outputs": [
    {
     "name": "stdout",
     "output_type": "stream",
     "text": [
      "Total Income 2100 INR\n"
     ]
    }
   ],
   "source": [
    "#Question 18\n",
    "fees=0\n",
    "for i in range(20):\n",
    "    m=input()\n",
    "    l=[]\n",
    "    if m==\"\":\n",
    "        break\n",
    "    elif int(m) in range(1,120):\n",
    "        l.append(int(m))\n",
    "    else:\n",
    "        print(\"INVALID INPUT\")\n",
    "        exit()\n",
    "    for i in l:\n",
    "        if 0<i<=17:\n",
    "            fees+=200\n",
    "        if 17<i<=40:\n",
    "            fees+=400\n",
    "        if i>40:\n",
    "            fees+=300\n",
    "print(f\"Total Income {fees} INR\")    "
   ]
  },
  {
   "cell_type": "code",
   "execution_count": 1,
   "metadata": {},
   "outputs": [
    {
     "name": "stdout",
     "output_type": "stream",
     "text": [
      "4\n"
     ]
    }
   ],
   "source": [
    "#Question 19\n",
    "n=int(input())\n",
    "frnds=list(map(int,input().split()))[:n]\n",
    "maxcount=0\n",
    "for i in frnds:\n",
    "    maxcount=max(maxcount,frnds.count(i))\n",
    "if n<=2:\n",
    "    print(0)\n",
    "elif maxcount==1:\n",
    "    print(n-2)\n",
    "else:\n",
    "    print(n-maxcount)"
   ]
  },
  {
   "cell_type": "code",
   "execution_count": 9,
   "metadata": {},
   "outputs": [
    {
     "ename": "TypeError",
     "evalue": "'int' object is not callable",
     "output_type": "error",
     "traceback": [
      "\u001b[1;31m---------------------------------------------------------------------------\u001b[0m",
      "\u001b[1;31mTypeError\u001b[0m                                 Traceback (most recent call last)",
      "Cell \u001b[1;32mIn[9], line 10\u001b[0m\n\u001b[0;32m      8\u001b[0m \u001b[38;5;28;01mfor\u001b[39;00m i \u001b[38;5;129;01min\u001b[39;00m \u001b[38;5;28mrange\u001b[39m(\u001b[38;5;241m3\u001b[39m):\n\u001b[0;32m      9\u001b[0m     t[\u001b[38;5;241m3\u001b[39m]\u001b[38;5;241m.\u001b[39mappend(((t[\u001b[38;5;241m2\u001b[39m][i]\u001b[38;5;241m+\u001b[39mt[\u001b[38;5;241m1\u001b[39m][i]\u001b[38;5;241m+\u001b[39mt[\u001b[38;5;241m0\u001b[39m][i])\u001b[38;5;241m/\u001b[39m\u001b[38;5;241m/\u001b[39m\u001b[38;5;241m3\u001b[39m))\n\u001b[1;32m---> 10\u001b[0m m\u001b[38;5;241m=\u001b[39m\u001b[38;5;28;43mmax\u001b[39;49m\u001b[43m(\u001b[49m\u001b[43mt\u001b[49m\u001b[43m[\u001b[49m\u001b[38;5;241;43m3\u001b[39;49m\u001b[43m]\u001b[49m\u001b[43m)\u001b[49m\n\u001b[0;32m     11\u001b[0m \u001b[38;5;28;01mfor\u001b[39;00m i \u001b[38;5;129;01min\u001b[39;00m \u001b[38;5;28mrange\u001b[39m(\u001b[38;5;241m3\u001b[39m):\n\u001b[0;32m     12\u001b[0m     \u001b[38;5;28;01mif\u001b[39;00m t[\u001b[38;5;241m3\u001b[39m][i]\u001b[38;5;241m<\u001b[39m\u001b[38;5;241m70\u001b[39m:\n",
      "\u001b[1;31mTypeError\u001b[0m: 'int' object is not callable"
     ]
    }
   ],
   "source": [
    "#Question 20\n",
    "t=[[],[],[],[]]\n",
    "for i in range(3):\n",
    "    for j in range(3):\n",
    "        t[i].append(int(input()))\n",
    "        if t[i][-1] not in range(1,101):\n",
    "            print(\"Invalid input\")\n",
    "for i in range(3):\n",
    "    t[3].append(((t[2][i]+t[1][i]+t[0][i])//3))\n",
    "m=max(t[3])\n",
    "for i in range(3):\n",
    "    if t[3][i]<70:\n",
    "        print(f\"Trainee {i+1} is unfit\")\n",
    "    elif t[3][i]==m:\n",
    "        print(f\"Trainee Number: {i+1}\")"
   ]
  },
  {
   "cell_type": "code",
   "execution_count": 11,
   "metadata": {},
   "outputs": [
    {
     "name": "stdout",
     "output_type": "stream",
     "text": [
      "18.0 INR\n"
     ]
    }
   ],
   "source": [
    "#Question 21                date:22-07-2024\n",
    "from math import ceil\n",
    "\n",
    "route=[[\"TH\",\"GA\",\"IC\",\"HA\",\"TE\",\"LU\",\"NI\",\"CA\"],[800,600,750,900,1400,1200,1100,1500]]\n",
    "source=input()\n",
    "destination = input()\n",
    "fare=0\n",
    "if source not in route[0] or destination not in route[0]:\n",
    "    print(\"Invalid input\")\n",
    "    exit()\n",
    "if route[0].index(source)<route[0].index(destination):\n",
    "    for i in range(route[0].index(source),route[0].index(destination)):\n",
    "        fare+=route[1][i]\n",
    "elif route[0].index(destination)<route[0].index(source):\n",
    "    for i in range(route[0].index(source)+1,len(route[0])):\n",
    "        fare+=route[1][i]\n",
    "    for i in range(0,route[0].index(destination)+1):\n",
    "        fare+=route[1][i]\n",
    "fare=float(ceil(fare*0.005))\n",
    "print(f\"{fare} INR\")"
   ]
  },
  {
   "cell_type": "code",
   "execution_count": 12,
   "metadata": {},
   "outputs": [
    {
     "name": "stdout",
     "output_type": "stream",
     "text": [
      "12\n"
     ]
    }
   ],
   "source": [
    "#Question 22\n",
    "t=int(input())\n",
    "for _ in range(t):\n",
    "    n=int(input())\n",
    "    print(n*(n-1))#formula for max number in an array"
   ]
  }
 ],
 "metadata": {
  "kernelspec": {
   "display_name": "Python 3",
   "language": "python",
   "name": "python3"
  },
  "language_info": {
   "codemirror_mode": {
    "name": "ipython",
    "version": 3
   },
   "file_extension": ".py",
   "mimetype": "text/x-python",
   "name": "python",
   "nbconvert_exporter": "python",
   "pygments_lexer": "ipython3",
   "version": "3.12.4"
  }
 },
 "nbformat": 4,
 "nbformat_minor": 2
}
