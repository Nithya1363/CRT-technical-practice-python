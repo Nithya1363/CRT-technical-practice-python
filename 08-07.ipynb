{
 "cells": [
  {
   "cell_type": "code",
   "execution_count": 4,
   "metadata": {},
   "outputs": [
    {
     "name": "stdout",
     "output_type": "stream",
     "text": [
      "even\n"
     ]
    }
   ],
   "source": [
    "#even or odd\n",
    "n = int(input())\n",
    "if n%2==0:\n",
    "    print('even')\n",
    "else:\n",
    "    print('odd')"
   ]
  },
  {
   "cell_type": "code",
   "execution_count": null,
   "metadata": {},
   "outputs": [],
   "source": [
    "#find factors of given number\n",
    "n = int(input())\n",
    "res = [1,]\n",
    "for i in range(2,(n//2)+1):\n",
    "    if n%i==0:\n",
    "        res.append(i)\n",
    "res.append(n)\n",
    "print(res)"
   ]
  },
  {
   "cell_type": "code",
   "execution_count": 3,
   "metadata": {},
   "outputs": [
    {
     "name": "stdout",
     "output_type": "stream",
     "text": [
      "[2, 4]\n"
     ]
    }
   ],
   "source": [
    "#removing odd numbers from a list\n",
    "'''l = list(map(int,input().split()))\n",
    "l1 = []\n",
    "for i in l:\n",
    "    if i%2!=0:\n",
    "        l1.append(i)\n",
    "print(l1)'''\n",
    "l = list(map(int,input().split()))\n",
    "for i in l.copy():\n",
    "    if i%2!=0:\n",
    "        l.remove(i)\n",
    "print(l)"
   ]
  },
  {
   "cell_type": "code",
   "execution_count": 6,
   "metadata": {},
   "outputs": [
    {
     "name": "stdout",
     "output_type": "stream",
     "text": [
      "18\n"
     ]
    }
   ],
   "source": [
    "#sum of factors of a given number\n",
    "n = int(input())\n",
    "res = [1,]\n",
    "for i in range(2,(n//2)+1):\n",
    "    if n%i==0:\n",
    "        res.append(i)\n",
    "res.append(n)\n",
    "print(sum(res))"
   ]
  },
  {
   "cell_type": "code",
   "execution_count": 15,
   "metadata": {},
   "outputs": [
    {
     "name": "stdout",
     "output_type": "stream",
     "text": [
      "[1, 2, 7, 'a', 'c', 'g']\n"
     ]
    }
   ],
   "source": [
    "# sorting numbers and alphabets in a list\n",
    "l = ['a',1,'c',7,'g',2]\n",
    "l2,l3 = [],[]\n",
    "for i in l:\n",
    "    if str(i).isalpha():\n",
    "        l2.append(i)\n",
    "    else:\n",
    "        l3.append(i)\n",
    "print(sorted(l2)+sorted(l3))"
   ]
  },
  {
   "cell_type": "code",
   "execution_count": 2,
   "metadata": {},
   "outputs": [
    {
     "name": "stdout",
     "output_type": "stream",
     "text": [
      "[1, 5, 2, 6]\n"
     ]
    }
   ],
   "source": [
    "#remove all duplicates in the given list\n",
    "l = [1,5,2,1,6,2,2]\n",
    "\"\"\"res = []\n",
    "dup=[]\n",
    "for i in l:\n",
    "    if i in res:\n",
    "        dup.append(i)\n",
    "    else:\n",
    "        res.append(i)\n",
    "print(f\"list without duplicates are {res}\")\"\"\"\n",
    "'''print(set(l))'''\n",
    "k = []\n",
    "for i in l:\n",
    "    if i not in k:\n",
    "        k.append(i)\n",
    "print(k)"
   ]
  },
  {
   "cell_type": "code",
   "execution_count": 4,
   "metadata": {},
   "outputs": [
    {
     "name": "stdout",
     "output_type": "stream",
     "text": [
      "[-1, 5, -2, 1, -6, 2, -2]\n"
     ]
    }
   ],
   "source": [
    "#convert even index values into negative\n",
    "l = [1,5,2,1,6,2,2]\n",
    "for i in range(len(l)):\n",
    "    if i % 2 == 0:\n",
    "        l[i] *= (-1) \n",
    "print(l)"
   ]
  }
 ],
 "metadata": {
  "kernelspec": {
   "display_name": "Python 3",
   "language": "python",
   "name": "python3"
  },
  "language_info": {
   "codemirror_mode": {
    "name": "ipython",
    "version": 3
   },
   "file_extension": ".py",
   "mimetype": "text/x-python",
   "name": "python",
   "nbconvert_exporter": "python",
   "pygments_lexer": "ipython3",
   "version": "3.12.4"
  }
 },
 "nbformat": 4,
 "nbformat_minor": 2
}
