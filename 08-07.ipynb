{
 "cells": [
  {
   "cell_type": "code",
   "execution_count": 4,
   "metadata": {},
   "outputs": [
    {
     "name": "stdout",
     "output_type": "stream",
     "text": [
      "even\n"
     ]
    }
   ],
   "source": [
    "#even or odd\n",
    "n = int(input())\n",
    "if n%2==0:\n",
    "    print('even')\n",
    "else:\n",
    "    print('odd')"
   ]
  },
  {
   "cell_type": "code",
   "execution_count": 13,
   "metadata": {},
   "outputs": [
    {
     "name": "stdout",
     "output_type": "stream",
     "text": [
      "[1, 2, 3, 4, 6, 9, 12, 18, 27, 36, 54, 108]\n"
     ]
    }
   ],
   "source": [
    "#find factors of given number\n",
    "n = int(input())\n",
    "res = [1,]\n",
    "for i in range(2,(n//2)+1):\n",
    "    if n%i==0:\n",
    "        res.append(i)\n",
    "res.append(n)\n",
    "print(res)"
   ]
  },
  {
   "cell_type": "code",
   "execution_count": 3,
   "metadata": {},
   "outputs": [
    {
     "name": "stdout",
     "output_type": "stream",
     "text": [
      "[2, 4]\n"
     ]
    }
   ],
   "source": [
    "#removing odd numbers from a list\n",
    "'''l = list(map(int,input().split()))\n",
    "l1 = []\n",
    "for i in l:\n",
    "    if i%2!=0:\n",
    "        l1.append(i)\n",
    "print(l1)'''\n",
    "l = list(map(int,input().split()))\n",
    "for i in l.copy():\n",
    "    if i%2!=0:\n",
    "        l.remove(i)\n",
    "print(l)"
   ]
  },
  {
   "cell_type": "code",
   "execution_count": 36,
   "metadata": {},
   "outputs": [
    {
     "name": "stdout",
     "output_type": "stream",
     "text": [
      "18\n"
     ]
    }
   ],
   "source": [
    "#sum of factors of a given number\n",
    "n = int(input())\n",
    "res = [1,]\n",
    "for i in range(2,(n//2)+1):\n",
    "    if n%i==0:\n",
    "        res.append(i)\n",
    "res.append(n)\n",
    "print(sum(res))"
   ]
  },
  {
   "cell_type": "code",
   "execution_count": 15,
   "metadata": {},
   "outputs": [
    {
     "name": "stdout",
     "output_type": "stream",
     "text": [
      "[1, 2, 7, 'a', 'c', 'g']\n"
     ]
    }
   ],
   "source": [
    "# sorting numbers and alphabets in a list\n",
    "l = ['a',1,'c',7,'g',2]\n",
    "l2,l3 = [],[]\n",
    "for i in l:\n",
    "    if str(i).isalpha():\n",
    "        l2.append(i)\n",
    "    else:\n",
    "        l3.append(i)\n",
    "print(sorted(l2)+sorted(l3))"
   ]
  },
  {
   "cell_type": "code",
   "execution_count": 2,
   "metadata": {},
   "outputs": [
    {
     "name": "stdout",
     "output_type": "stream",
     "text": [
      "[1, 5, 2, 6]\n"
     ]
    }
   ],
   "source": [
    "#remove all duplicates in the given list\n",
    "l = [1,5,2,1,6,2,2]\n",
    "\"\"\"res = []\n",
    "dup=[]\n",
    "for i in l:\n",
    "    if i in res:\n",
    "        dup.append(i)\n",
    "    else:\n",
    "        res.append(i)\n",
    "print(f\"list without duplicates are {res}\")\"\"\"\n",
    "'''print(set(l))'''\n",
    "k = []\n",
    "for i in l:\n",
    "    if i not in k:\n",
    "        k.append(i)\n",
    "print(k)"
   ]
  },
  {
   "cell_type": "code",
   "execution_count": 9,
   "metadata": {},
   "outputs": [
    {
     "name": "stdout",
     "output_type": "stream",
     "text": [
      "[-1, 5, -2, 1, -6, 2, -2]\n"
     ]
    }
   ],
   "source": [
    "#convert even index values into negative\n",
    "l = [1,5,2,1,6,2,2]\n",
    "for i in range(0,len(l),2):\n",
    "    #if i % 2 == 0:\n",
    "    l[i] = -l[i]    \n",
    "    '''l[i] *= (-1)'''  \n",
    "print(l)"
   ]
  },
  {
   "cell_type": "code",
   "execution_count": 12,
   "metadata": {},
   "outputs": [
    {
     "name": "stdout",
     "output_type": "stream",
     "text": [
      "Grades are ['C', 'A', 'D', 'D', 'B']\n",
      "pass\n"
     ]
    }
   ],
   "source": [
    "# grade students marks\n",
    "''' 90 > a\n",
    "    80<b<=90\n",
    "    70<c<=80\n",
    "    d<=70''' \n",
    "s = [75,99,63,32,84]\n",
    "g = []\n",
    "for i in s:\n",
    "    if i>90:\n",
    "        g.append('A')\n",
    "    elif 80<i<=90:\n",
    "        g.append('B')\n",
    "    elif 70<i<=80:\n",
    "        g.append('C')\n",
    "    else:\n",
    "        g.append('D')\n",
    "print(f\"Grades are {g}\")\n",
    "if sum(s)>=300:\n",
    "    print('pass')\n",
    "else:\n",
    "    print('fail')"
   ]
  },
  {
   "cell_type": "code",
   "execution_count": 12,
   "metadata": {},
   "outputs": [
    {
     "name": "stdout",
     "output_type": "stream",
     "text": [
      "True\n",
      "True\n",
      "False\n",
      "False\n",
      "True\n",
      "HELLO\n",
      "hello\n",
      "['hello']\n",
      "h-e-l-l-o\n",
      "hello\n",
      "cello\n",
      "Hello\n"
     ]
    }
   ],
   "source": [
    "#string functions\n",
    "s = input()\n",
    "print(s.isalpha())\n",
    "print(s.isalnum())\n",
    "print(s.isdigit())\n",
    "print(s.isupper())\n",
    "print(s.islower())\n",
    "print(s.upper())\n",
    "print(s.lower())\n",
    "print(s.split())\n",
    "print('-'.join(s))\n",
    "print(s.strip())\n",
    "print(s.replace('h','c'))\n",
    "print(s.capitalize())\n"
   ]
  },
  {
   "cell_type": "code",
   "execution_count": 11,
   "metadata": {},
   "outputs": [
    {
     "name": "stdout",
     "output_type": "stream",
     "text": [
      "hello\n",
      "hello\n"
     ]
    }
   ],
   "source": [
    "#remove spaces in a string\n",
    "s = input()\n",
    "print(s.replace(\" \",\"\"))\n",
    "print(''.join(s.split()))"
   ]
  },
  {
   "cell_type": "code",
   "execution_count": 10,
   "metadata": {},
   "outputs": [
    {
     "name": "stdout",
     "output_type": "stream",
     "text": [
      "['Preelekha', 'Puvarna', 'Rajasri', 'Tejaswi', 'Lavanya']\n"
     ]
    }
   ],
   "source": [
    "#replace p with s \n",
    "str = ['Sreelekha','Suvarna','Rajasri','Tejaswi','Lavanya']\n",
    "'''s = []\n",
    "for i in str:\n",
    "    if i[0] == 'S':\n",
    "        s.append(i.replace('S','P'))\n",
    "    else:\n",
    "        s.append(i)\n",
    "print(s)'''\n",
    "for i in range(len(str)):\n",
    "    if str[i][0] == 'S':\n",
    "        str[i] = str[i].replace('S','P')\n",
    "print(str)\n",
    "      "
   ]
  },
  {
   "cell_type": "code",
   "execution_count": 35,
   "metadata": {},
   "outputs": [
    {
     "name": "stdout",
     "output_type": "stream",
     "text": [
      "panagram\n"
     ]
    }
   ],
   "source": [
    "#panagram\n",
    "s = 'the quick brown fox jumps over the lazy dog'\n",
    "alp = 'abcdefghijklmnopqrstuvwxyz'\n",
    "for i in alp:\n",
    "    if i not in s:\n",
    "        print('no')\n",
    "        break\n",
    "else:\n",
    "    print('panagram')"
   ]
  },
  {
   "cell_type": "code",
   "execution_count": 9,
   "metadata": {},
   "outputs": [
    {
     "name": "stdout",
     "output_type": "stream",
     "text": [
      "{'d', 'a', 'c'}\n"
     ]
    }
   ],
   "source": [
    "s = set()\n",
    "s.add('a')\n",
    "s.add('c')\n",
    "s.add('a')\n",
    "s.add('d')\n",
    "print(s)"
   ]
  },
  {
   "cell_type": "code",
   "execution_count": 5,
   "metadata": {},
   "outputs": [
    {
     "name": "stdout",
     "output_type": "stream",
     "text": [
      "{'CSE': 89, 'ECE': 13, 'Chem': 56}\n"
     ]
    }
   ],
   "source": [
    "d = {\n",
    "    \"CSE\":45,\n",
    "    \"ECE\":13,\n",
    "    \"Chem\":56\n",
    "}\n",
    "d[\"Civil\"]\n",
    "d[\"CSE\"]=89\n",
    "print(d)"
   ]
  },
  {
   "cell_type": "code",
   "execution_count": 6,
   "metadata": {},
   "outputs": [
    {
     "name": "stdout",
     "output_type": "stream",
     "text": [
      "{1: 5, 2: 5, 3: 2}\n"
     ]
    }
   ],
   "source": [
    "l=[1,2,1,1,3,2,2,2,2,1,1,3]\n",
    "d={}\n",
    "for i in l:\n",
    "    if i not in d:\n",
    "        d[i] = 1\n",
    "    else:\n",
    "        d[i]+=1\n",
    "print(d)"
   ]
  },
  {
   "cell_type": "code",
   "execution_count": 22,
   "metadata": {},
   "outputs": [
    {
     "name": "stdout",
     "output_type": "stream",
     "text": [
      "{'a': 1}\n",
      "{'a': 1}\n",
      "Anagram\n"
     ]
    }
   ],
   "source": [
    "#find whether two strings are anagrams\n",
    "s = input()\n",
    "str = input()\n",
    "d ,d1= {},{}\n",
    "for i in s:\n",
    "    if i not in d:\n",
    "        d[i] = 1\n",
    "    else:\n",
    "        d[i]+=1\n",
    "for i in str:\n",
    "    if i not in d1:\n",
    "         d1[i] = 1\n",
    "    else:\n",
    "        d1[i]+=1\n",
    "print(d)\n",
    "print(d1)\n",
    "if d == d1:\n",
    "    print('Anagram')\n",
    "else:\n",
    "    print('Not Anagram')"
   ]
  },
  {
   "cell_type": "code",
   "execution_count": null,
   "metadata": {},
   "outputs": [],
   "source": [
    "from collections import Counter\n",
    "s1 = \"anagram\"\n",
    "s2 = \"nagaram\"\n",
    "if Counter(s1)==Counter(s2):\n",
    "    print('anagram')\n",
    "else:\n",
    "    print('not an angaram')"
   ]
  },
  {
   "cell_type": "code",
   "execution_count": 54,
   "metadata": {},
   "outputs": [
    {
     "name": "stdout",
     "output_type": "stream",
     "text": [
      "iwsajet\n"
     ]
    }
   ],
   "source": [
    "# string reverse\n",
    "s = input()\n",
    "rev = \"\"\n",
    "for i in range(len(s)-1,-1,-1):\n",
    "   rev+=s[i]\n",
    "print(rev)\n",
    "\"\"\" rev2 = \n",
    "for i in s:\n",
    "    rev2 = i+rev2\n",
    "print(rev2)\"\"\""
   ]
  },
  {
   "cell_type": "code",
   "execution_count": 55,
   "metadata": {},
   "outputs": [
    {
     "name": "stdout",
     "output_type": "stream",
     "text": [
      "palindrome\n"
     ]
    }
   ],
   "source": [
    "# palindrome\n",
    "s = input()\n",
    "rev = \"\"\n",
    "for i in range(len(s)-1,-1,-1):\n",
    "   rev+=s[i]\n",
    "if rev==s: print('palindrome')\n",
    "else: print('not')"
   ]
  },
  {
   "cell_type": "code",
   "execution_count": 2,
   "metadata": {},
   "outputs": [
    {
     "name": "stdout",
     "output_type": "stream",
     "text": [
      "palindrome\n"
     ]
    }
   ],
   "source": [
    "s = input()\n",
    "i=0\n",
    "j=len(s)-1\n",
    "'''while i<=j :\n",
    "    if s[i] == s[j]:\n",
    "        i+=1\n",
    "        j-=1\n",
    "        print('palindrome')\n",
    "    else:\n",
    "        print('not')\n",
    "        break'''\n",
    "p= True\n",
    "while i<=j:\n",
    "    if s[i]!=s[j]:\n",
    "        p = False\n",
    "        break\n",
    "    i+=1\n",
    "    j-=1\n",
    "if p: print('palindrome')\n",
    "else: print('not')"
   ]
  },
  {
   "cell_type": "code",
   "execution_count": 4,
   "metadata": {},
   "outputs": [
    {
     "name": "stdout",
     "output_type": "stream",
     "text": [
      "23451\n"
     ]
    }
   ],
   "source": [
    "#reverse a number\n",
    "n = int(input())\n",
    "rev=0\n",
    "while n>0:\n",
    "    r = n%10\n",
    "    rev = rev*10+r\n",
    "    n = n//10\n",
    "print(rev)"
   ]
  }
 ],
 "metadata": {
  "kernelspec": {
   "display_name": "Python 3",
   "language": "python",
   "name": "python3"
  },
  "language_info": {
   "codemirror_mode": {
    "name": "ipython",
    "version": 3
   },
   "file_extension": ".py",
   "mimetype": "text/x-python",
   "name": "python",
   "nbconvert_exporter": "python",
   "pygments_lexer": "ipython3",
   "version": "3.12.4"
  }
 },
 "nbformat": 4,
 "nbformat_minor": 2
}
