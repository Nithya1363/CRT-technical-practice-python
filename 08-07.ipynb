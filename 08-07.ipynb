{
 "cells": [
  {
   "cell_type": "code",
   "execution_count": 4,
   "metadata": {},
   "outputs": [
    {
     "name": "stdout",
     "output_type": "stream",
     "text": [
      "even\n"
     ]
    }
   ],
   "source": [
    "#even or odd\n",
    "n = int(input())\n",
    "if n%2==0:\n",
    "    print('even')\n",
    "else:\n",
    "    print('odd')"
   ]
  },
  {
   "cell_type": "code",
   "execution_count": 13,
   "metadata": {},
   "outputs": [
    {
     "name": "stdout",
     "output_type": "stream",
     "text": [
      "[1, 2, 3, 4, 6, 9, 12, 18, 27, 36, 54, 108]\n"
     ]
    }
   ],
   "source": [
    "#find factors of given number\n",
    "n = int(input())\n",
    "res = [1,]\n",
    "for i in range(2,(n//2)+1):\n",
    "    if n%i==0:\n",
    "        res.append(i)\n",
    "res.append(n)\n",
    "print(res)"
   ]
  },
  {
   "cell_type": "code",
   "execution_count": 3,
   "metadata": {},
   "outputs": [
    {
     "name": "stdout",
     "output_type": "stream",
     "text": [
      "[2, 4]\n"
     ]
    }
   ],
   "source": [
    "#removing odd numbers from a list\n",
    "'''l = list(map(int,input().split()))\n",
    "l1 = []\n",
    "for i in l:\n",
    "    if i%2!=0:\n",
    "        l1.append(i)\n",
    "print(l1)'''\n",
    "l = list(map(int,input().split()))\n",
    "for i in l.copy():\n",
    "    if i%2!=0:\n",
    "        l.remove(i)\n",
    "print(l)"
   ]
  },
  {
   "cell_type": "code",
   "execution_count": 36,
   "metadata": {},
   "outputs": [
    {
     "name": "stdout",
     "output_type": "stream",
     "text": [
      "18\n"
     ]
    }
   ],
   "source": [
    "#sum of factors of a given number\n",
    "n = int(input())\n",
    "res = [1,]\n",
    "for i in range(2,(n//2)+1):\n",
    "    if n%i==0:\n",
    "        res.append(i)\n",
    "res.append(n)\n",
    "print(sum(res))"
   ]
  },
  {
   "cell_type": "code",
   "execution_count": 15,
   "metadata": {},
   "outputs": [
    {
     "name": "stdout",
     "output_type": "stream",
     "text": [
      "[1, 2, 7, 'a', 'c', 'g']\n"
     ]
    }
   ],
   "source": [
    "# sorting numbers and alphabets in a list\n",
    "l = ['a',1,'c',7,'g',2]\n",
    "l2,l3 = [],[]\n",
    "for i in l:\n",
    "    if str(i).isalpha():\n",
    "        l2.append(i)\n",
    "    else:\n",
    "        l3.append(i)\n",
    "print(sorted(l2)+sorted(l3))"
   ]
  },
  {
   "cell_type": "code",
   "execution_count": 2,
   "metadata": {},
   "outputs": [
    {
     "name": "stdout",
     "output_type": "stream",
     "text": [
      "[1, 5, 2, 6]\n"
     ]
    }
   ],
   "source": [
    "#remove all duplicates in the given list\n",
    "l = [1,5,2,1,6,2,2]\n",
    "\"\"\"res = []\n",
    "dup=[]\n",
    "for i in l:\n",
    "    if i in res:\n",
    "        dup.append(i)\n",
    "    else:\n",
    "        res.append(i)\n",
    "print(f\"list without duplicates are {res}\")\"\"\"\n",
    "'''print(set(l))'''\n",
    "k = []\n",
    "for i in l:\n",
    "    if i not in k:\n",
    "        k.append(i)\n",
    "print(k)"
   ]
  },
  {
   "cell_type": "code",
   "execution_count": 9,
   "metadata": {},
   "outputs": [
    {
     "name": "stdout",
     "output_type": "stream",
     "text": [
      "[-1, 5, -2, 1, -6, 2, -2]\n"
     ]
    }
   ],
   "source": [
    "#convert even index values into negative\n",
    "l = [1,5,2,1,6,2,2]\n",
    "for i in range(0,len(l),2):\n",
    "    #if i % 2 == 0:\n",
    "    l[i] = -l[i]    \n",
    "    '''l[i] *= (-1)'''  \n",
    "print(l)"
   ]
  },
  {
   "cell_type": "code",
   "execution_count": 12,
   "metadata": {},
   "outputs": [
    {
     "name": "stdout",
     "output_type": "stream",
     "text": [
      "Grades are ['C', 'A', 'D', 'D', 'B']\n",
      "pass\n"
     ]
    }
   ],
   "source": [
    "# grade students marks\n",
    "''' 90 > a\n",
    "    80<b<=90\n",
    "    70<c<=80\n",
    "    d<=70''' \n",
    "s = [75,99,63,32,84]\n",
    "g = []\n",
    "for i in s:\n",
    "    if i>90:\n",
    "        g.append('A')\n",
    "    elif 80<i<=90:\n",
    "        g.append('B')\n",
    "    elif 70<i<=80:\n",
    "        g.append('C')\n",
    "    else:\n",
    "        g.append('D')\n",
    "print(f\"Grades are {g}\")\n",
    "if sum(s)>=300:\n",
    "    print('pass')\n",
    "else:\n",
    "    print('fail')"
   ]
  },
  {
   "cell_type": "code",
   "execution_count": 12,
   "metadata": {},
   "outputs": [
    {
     "name": "stdout",
     "output_type": "stream",
     "text": [
      "True\n",
      "True\n",
      "False\n",
      "False\n",
      "True\n",
      "HELLO\n",
      "hello\n",
      "['hello']\n",
      "h-e-l-l-o\n",
      "hello\n",
      "cello\n",
      "Hello\n"
     ]
    }
   ],
   "source": [
    "#string functions\n",
    "s = input()\n",
    "print(s.isalpha())\n",
    "print(s.isalnum())\n",
    "print(s.isdigit())\n",
    "print(s.isupper())\n",
    "print(s.islower())\n",
    "print(s.upper())\n",
    "print(s.lower())\n",
    "print(s.split())\n",
    "print('-'.join(s))\n",
    "print(s.strip())\n",
    "print(s.replace('h','c'))\n",
    "print(s.capitalize())\n"
   ]
  },
  {
   "cell_type": "code",
   "execution_count": 11,
   "metadata": {},
   "outputs": [
    {
     "name": "stdout",
     "output_type": "stream",
     "text": [
      "hello\n",
      "hello\n"
     ]
    }
   ],
   "source": [
    "#remove spaces in a string\n",
    "s = input()\n",
    "print(s.replace(\" \",\"\"))\n",
    "print(''.join(s.split()))"
   ]
  },
  {
   "cell_type": "code",
   "execution_count": 10,
   "metadata": {},
   "outputs": [
    {
     "name": "stdout",
     "output_type": "stream",
     "text": [
      "['Preelekha', 'Puvarna', 'Rajasri', 'Tejaswi', 'Lavanya']\n"
     ]
    }
   ],
   "source": [
    "#replace p with s \n",
    "str = ['Sreelekha','Suvarna','Rajasri','Tejaswi','Lavanya']\n",
    "'''s = []\n",
    "for i in str:\n",
    "    if i[0] == 'S':\n",
    "        s.append(i.replace('S','P'))\n",
    "    else:\n",
    "        s.append(i)\n",
    "print(s)'''\n",
    "for i in range(len(str)):\n",
    "    if str[i][0] == 'S':\n",
    "        str[i] = str[i].replace('S','P')\n",
    "print(str)\n",
    "      "
   ]
  },
  {
   "cell_type": "code",
   "execution_count": 35,
   "metadata": {},
   "outputs": [
    {
     "name": "stdout",
     "output_type": "stream",
     "text": [
      "panagram\n"
     ]
    }
   ],
   "source": [
    "#panagram\n",
    "s = 'the quick brown fox jumps over the lazy dog'\n",
    "alp = 'abcdefghijklmnopqrstuvwxyz'\n",
    "for i in alp:\n",
    "    if i not in s:\n",
    "        print('no')\n",
    "        break\n",
    "else:\n",
    "    print('panagram')"
   ]
  },
  {
   "cell_type": "code",
   "execution_count": 9,
   "metadata": {},
   "outputs": [
    {
     "name": "stdout",
     "output_type": "stream",
     "text": [
      "{'d', 'a', 'c'}\n"
     ]
    }
   ],
   "source": [
    "s = set()\n",
    "s.add('a')\n",
    "s.add('c')\n",
    "s.add('a')\n",
    "s.add('d')\n",
    "print(s)"
   ]
  },
  {
   "cell_type": "code",
   "execution_count": 5,
   "metadata": {},
   "outputs": [
    {
     "name": "stdout",
     "output_type": "stream",
     "text": [
      "{'CSE': 89, 'ECE': 13, 'Chem': 56}\n"
     ]
    }
   ],
   "source": [
    "d = {\n",
    "    \"CSE\":45,\n",
    "    \"ECE\":13,\n",
    "    \"Chem\":56\n",
    "}\n",
    "d[\"Civil\"]\n",
    "d[\"CSE\"]=89\n",
    "print(d)"
   ]
  },
  {
   "cell_type": "code",
   "execution_count": 6,
   "metadata": {},
   "outputs": [
    {
     "name": "stdout",
     "output_type": "stream",
     "text": [
      "{1: 5, 2: 5, 3: 2}\n"
     ]
    }
   ],
   "source": [
    "l=[1,2,1,1,3,2,2,2,2,1,1,3]\n",
    "d={}\n",
    "for i in l:\n",
    "    if i not in d:\n",
    "        d[i] = 1\n",
    "    else:\n",
    "        d[i]+=1\n",
    "print(d)"
   ]
  },
  {
   "cell_type": "code",
   "execution_count": 22,
   "metadata": {},
   "outputs": [
    {
     "name": "stdout",
     "output_type": "stream",
     "text": [
      "{'a': 1}\n",
      "{'a': 1}\n",
      "Anagram\n"
     ]
    }
   ],
   "source": [
    "#find whether two strings are anagrams\n",
    "s = input()\n",
    "str = input()\n",
    "d ,d1= {},{}\n",
    "for i in s:\n",
    "    if i not in d:\n",
    "        d[i] = 1\n",
    "    else:\n",
    "        d[i]+=1\n",
    "for i in str:\n",
    "    if i not in d1:\n",
    "         d1[i] = 1\n",
    "    else:\n",
    "        d1[i]+=1\n",
    "print(d)\n",
    "print(d1)\n",
    "if d == d1:\n",
    "    print('Anagram')\n",
    "else:\n",
    "    print('Not Anagram')"
   ]
  },
  {
   "cell_type": "code",
   "execution_count": null,
   "metadata": {},
   "outputs": [],
   "source": [
    "from collections import Counter\n",
    "s1 = \"anagram\"\n",
    "s2 = \"nagaram\"\n",
    "if Counter(s1)==Counter(s2):\n",
    "    print('anagram')\n",
    "else:\n",
    "    print('not an angaram')"
   ]
  },
  {
   "cell_type": "code",
   "execution_count": 54,
   "metadata": {},
   "outputs": [
    {
     "name": "stdout",
     "output_type": "stream",
     "text": [
      "iwsajet\n"
     ]
    }
   ],
   "source": [
    "# string reverse\n",
    "s = input()\n",
    "rev = \"\"\n",
    "for i in range(len(s)-1,-1,-1):\n",
    "   rev+=s[i]\n",
    "print(rev)\n",
    "\"\"\" rev2 = \n",
    "for i in s:\n",
    "    rev2 = i+rev2\n",
    "print(rev2)\"\"\""
   ]
  },
  {
   "cell_type": "code",
   "execution_count": 55,
   "metadata": {},
   "outputs": [
    {
     "name": "stdout",
     "output_type": "stream",
     "text": [
      "palindrome\n"
     ]
    }
   ],
   "source": [
    "# palindrome\n",
    "s = input()\n",
    "rev = \"\"\n",
    "for i in range(len(s)-1,-1,-1):\n",
    "   rev+=s[i]\n",
    "if rev==s: print('palindrome')\n",
    "else: print('not')"
   ]
  },
  {
   "cell_type": "code",
   "execution_count": 2,
   "metadata": {},
   "outputs": [
    {
     "name": "stdout",
     "output_type": "stream",
     "text": [
      "palindrome\n"
     ]
    }
   ],
   "source": [
    "s = input()\n",
    "i=0\n",
    "j=len(s)-1\n",
    "'''while i<=j :\n",
    "    if s[i] == s[j]:\n",
    "        i+=1\n",
    "        j-=1\n",
    "        print('palindrome')\n",
    "    else:\n",
    "        print('not')\n",
    "        break'''\n",
    "p= True\n",
    "while i<=j:\n",
    "    if s[i]!=s[j]:\n",
    "        p = False\n",
    "        break\n",
    "    i+=1\n",
    "    j-=1\n",
    "if p: print('palindrome')\n",
    "else: print('not')"
   ]
  },
  {
   "cell_type": "code",
   "execution_count": 4,
   "metadata": {},
   "outputs": [
    {
     "name": "stdout",
     "output_type": "stream",
     "text": [
      "23451\n"
     ]
    }
   ],
   "source": [
    "#reverse a number\n",
    "n = int(input())\n",
    "rev=0\n",
    "while n:\n",
    "    r = n%10\n",
    "    rev = rev*10+r\n",
    "    n = n//10\n",
    "print(rev)"
   ]
  },
  {
   "cell_type": "code",
   "execution_count": 11,
   "metadata": {},
   "outputs": [
    {
     "name": "stdout",
     "output_type": "stream",
     "text": [
      "1 2 4 8 16 32 64 128 256 512 1024 2048 4096 8192 16384 32768 65536 131072 262144 524288 1048576 2097152 4194304 8388608 16777216 33554432 67108864 134217728 268435456 536870912 73741817 147483634 294967268 589934536 179869065 359738130 719476260 438952513 877905026 755810045 511620083 23240159 46480318 92960636 185921272 371842544 743685088 487370169 974740338 949480669 898961331 797922655 595845303 191690599 383381198 766762396 533524785 67049563 134099126 268198252 536396504 72793001 145586002 "
     ]
    }
   ],
   "source": [
    "n = int(input())\n",
    "for i in range(1,n):\n",
    "    print((2**(i-1))%((10**9)+7),end = \" \")"
   ]
  },
  {
   "cell_type": "code",
   "execution_count": 17,
   "metadata": {},
   "outputs": [
    {
     "name": "stdout",
     "output_type": "stream",
     "text": [
      "3 8\n",
      "7 4\n",
      "5 6\n"
     ]
    }
   ],
   "source": [
    "#sum pairs (two sum)\n",
    "l = [3,7,8,5,4]\n",
    "k=11\n",
    "for i in range(len(l)):\n",
    "    for j in range(i+1,len(l)):\n",
    "        if l[i]+l[j] == k:\n",
    "            print(l[i],l[j])"
   ]
  },
  {
   "cell_type": "code",
   "execution_count": 30,
   "metadata": {},
   "outputs": [
    {
     "name": "stdout",
     "output_type": "stream",
     "text": [
      "6 8\n",
      "9 5\n",
      "11 3\n"
     ]
    }
   ],
   "source": [
    "#two sum\n",
    "l = [8,3,5,6,1,9,11]\n",
    "k = 14\n",
    "s = set()\n",
    "comp=0\n",
    "for i in l:\n",
    "    comp = k-i\n",
    "    if comp in s:\n",
    "        print(i,comp)\n",
    "    s.add(i)"
   ]
  },
  {
   "cell_type": "code",
   "execution_count": 12,
   "metadata": {},
   "outputs": [
    {
     "name": "stdout",
     "output_type": "stream",
     "text": [
      "total number of socks are 5\n"
     ]
    }
   ],
   "source": [
    "#find number of pair of socks in given list. date:10-07-2024\n",
    "l = [1,2,3,1,3,1,2,2,1,1,1,3]\n",
    "d = {}\n",
    "s=0\n",
    "for i in l:\n",
    "    if i not in d:\n",
    "        d[i]=1\n",
    "    else:\n",
    "        d[i]+=1\n",
    "print(d)\n",
    "for i in d:\n",
    "    s+= d[i]//2\n",
    "print(f\"total number of socks are {s}\")"
   ]
  },
  {
   "cell_type": "code",
   "execution_count": 41,
   "metadata": {},
   "outputs": [
    {
     "name": "stdout",
     "output_type": "stream",
     "text": [
      "total number of socks are 5\n"
     ]
    }
   ],
   "source": [
    "# total pairs of socks method 2\n",
    "list = [1,2,3,1,3,1,2,2,1,1,1,3]\n",
    "dup = set()\n",
    "dup_count=0\n",
    "s=0\n",
    "for i in list:\n",
    "    if i not in dup:\n",
    "        dup.add(i)\n",
    "    else:\n",
    "        dup_count+=1\n",
    "        dup.remove(i)\n",
    "print(f\"total number of socks are {dup_count}\")"
   ]
  },
  {
   "cell_type": "code",
   "execution_count": 10,
   "metadata": {},
   "outputs": [
    {
     "name": "stdout",
     "output_type": "stream",
     "text": [
      "24\n"
     ]
    }
   ],
   "source": [
    "# collatz conjecture\n",
    "n = int(input())\n",
    "c=0\n",
    "while(n>1):\n",
    "    if n%2==0:\n",
    "        n = n//2\n",
    "    else:\n",
    "        n = (3*n)+1\n",
    "    c+=1\n",
    "print(c)"
   ]
  },
  {
   "cell_type": "code",
   "execution_count": 11,
   "metadata": {},
   "outputs": [
    {
     "name": "stdout",
     "output_type": "stream",
     "text": [
      "leap\n"
     ]
    }
   ],
   "source": [
    "#leap year or not\n",
    "n = int(input())\n",
    "if (n%4==0 and n%100!=0) or n%400==0:\n",
    "    print('leap')\n",
    "else:\n",
    "    print('not leap')"
   ]
  },
  {
   "cell_type": "code",
   "execution_count": 3,
   "metadata": {},
   "outputs": [
    {
     "name": "stdout",
     "output_type": "stream",
     "text": [
      "[]\n",
      "valid\n"
     ]
    }
   ],
   "source": [
    "#matching brackets\n",
    "l=[]\n",
    "s= \"[{()}]\"\n",
    "for i in s:\n",
    "    if i == '[':\n",
    "        l.append(']')\n",
    "    elif i == '{':\n",
    "        l.append('}')\n",
    "    elif i == \"(\":\n",
    "        l.append(')')\n",
    "    else:\n",
    "        if i == l[-1]:\n",
    "            l.pop()\n",
    "        else:\n",
    "            break\n",
    "print(l)\n",
    "if len(l)==0:\n",
    "    print('valid')\n",
    "else:\n",
    "    print('invalid')"
   ]
  },
  {
   "cell_type": "code",
   "execution_count": 1,
   "metadata": {},
   "outputs": [
    {
     "name": "stdout",
     "output_type": "stream",
     "text": [
      "37\n"
     ]
    }
   ],
   "source": [
    "#Evaluate a postfix Expression\n",
    "s ='97352+-*-'\n",
    "l=[]\n",
    "for i in s:\n",
    "    if i.isdigit():\n",
    "        l.append(int(i))\n",
    "    else:\n",
    "        x = l.pop()\n",
    "        y = l.pop()\n",
    "        if i == \"*\":\n",
    "            l.append(y*x)\n",
    "        elif i == \"+\":\n",
    "            l.append(y+x)\n",
    "        elif i == '/':\n",
    "            l.append(y//x)\n",
    "        elif i == '-':\n",
    "            l.append(y-x)\n",
    "print(l[0])"
   ]
  },
  {
   "cell_type": "code",
   "execution_count": 24,
   "metadata": {},
   "outputs": [
    {
     "name": "stdout",
     "output_type": "stream",
     "text": [
      "491\n",
      "914\n",
      "142\n"
     ]
    }
   ],
   "source": [
    "n = input()\n",
    "k = int(input())\n",
    "i=0\n",
    "while(i+k<=len(n)):\n",
    "    print(n[i:i+k])\n",
    "    i+=1"
   ]
  },
  {
   "cell_type": "code",
   "execution_count": 5,
   "metadata": {},
   "outputs": [
    {
     "name": "stdout",
     "output_type": "stream",
     "text": [
      "[3, 4, 5, 7, 0, 0, 0]\n"
     ]
    }
   ],
   "source": [
    "#remove all zeros to the end   date:11-07-2024\n",
    "l=[0,3,4,0,5,0,7]\n",
    "res = []\n",
    "cnt=0\n",
    "for i in l:\n",
    "    if i != 0:\n",
    "        res.append(i)\n",
    "    else:\n",
    "        cnt+=1\n",
    "print(res+[0]*cnt)"
   ]
  },
  {
   "cell_type": "code",
   "execution_count": 6,
   "metadata": {},
   "outputs": [
    {
     "name": "stdout",
     "output_type": "stream",
     "text": [
      "[3, 4, 5, 7, 0, 0, 0]\n"
     ]
    }
   ],
   "source": [
    "l=[0,3,4,0,5,0,7]\n",
    "res = []\n",
    "n=[]\n",
    "for i in l:\n",
    "    if i != 0:\n",
    "        res.append(i)\n",
    "    else:\n",
    "        n.append(i)\n",
    "print(res+n)"
   ]
  },
  {
   "cell_type": "code",
   "execution_count": 7,
   "metadata": {},
   "outputs": [
    {
     "name": "stdout",
     "output_type": "stream",
     "text": [
      "[3, 4, 5, 7, 0, 0, 0]\n"
     ]
    }
   ],
   "source": [
    "l=[0,3,4,0,5,0,7]\n",
    "for i in l:\n",
    "    if i == 0:\n",
    "        l.remove(i)\n",
    "        l.append(i)\n",
    "print(l)"
   ]
  },
  {
   "cell_type": "code",
   "execution_count": 23,
   "metadata": {},
   "outputs": [
    {
     "name": "stdout",
     "output_type": "stream",
     "text": [
      "11\n",
      "[4, 3, 4]\n"
     ]
    }
   ],
   "source": [
    "#Maximum sum sub array\n",
    "l = [6,-3,-2,1,-7,4,3,4,-9,5,3]\n",
    "s=0\n",
    "m=l[0]\n",
    "max_sub = [l[0]]\n",
    "i=0\n",
    "j=-1\n",
    "for n in l:\n",
    "    s+=n\n",
    "    j+=1\n",
    "    if s<=0:\n",
    "        s=0\n",
    "        i=j+1\n",
    "    elif s>m:\n",
    "        m=s\n",
    "        max_sub=l[i:j+1]\n",
    "print(m)\n",
    "print(max_sub)"
   ]
  },
  {
   "cell_type": "code",
   "execution_count": 25,
   "metadata": {},
   "outputs": [
    {
     "name": "stdout",
     "output_type": "stream",
     "text": [
      "144\n"
     ]
    }
   ],
   "source": [
    "#fibonacci series\n",
    "def fibonacci(n):\n",
    "    s = [0,1]\n",
    "    a ,b= 0,1\n",
    "    for i in range(n):\n",
    "        a ,b= b,a+b\n",
    "        s.append(a)\n",
    "    return s\n",
    "n=int(input())\n",
    "f=fibonacci(n)\n",
    "print(sum(f))"
   ]
  },
  {
   "cell_type": "code",
   "execution_count": 1,
   "metadata": {},
   "outputs": [
    {
     "name": "stdout",
     "output_type": "stream",
     "text": [
      "True\n"
     ]
    }
   ],
   "source": [
    "#prime or not\n",
    "def isPrime(n):\n",
    "    prime=[]\n",
    "    for i in range(2,(n//2)+1):\n",
    "        if n%i == 0:\n",
    "            return False\n",
    "    return True\n",
    "n = int(input())\n",
    "print(isPrime(n))"
   ]
  },
  {
   "cell_type": "code",
   "execution_count": 29,
   "metadata": {},
   "outputs": [
    {
     "name": "stdout",
     "output_type": "stream",
     "text": [
      "1 2 3 5 7 11 13 "
     ]
    }
   ],
   "source": [
    "#prime series\n",
    "def isPrime(n):\n",
    "    for i in range(2,(n//2)+1):\n",
    "        if i == 1:\n",
    "            return True\n",
    "        if n%i==0:\n",
    "            return False\n",
    "    return True\n",
    "s,e = map(int,input().split())\n",
    "for i in range(s,e):\n",
    "    if isPrime(i):\n",
    "        print(i,end=' ')"
   ]
  },
  {
   "cell_type": "code",
   "execution_count": 38,
   "metadata": {},
   "outputs": [
    {
     "name": "stdout",
     "output_type": "stream",
     "text": [
      "16\n",
      "abundant\n"
     ]
    }
   ],
   "source": [
    "#Perfect,adundant and deficient\n",
    "def Factors(n):\n",
    "    s=0\n",
    "    for i in range(1,(n//2)+1):\n",
    "        if n%i==0:\n",
    "            s+=i\n",
    "    return s\n",
    "n = int(input())\n",
    "print(Factors(n))\n",
    "res = Factors(n)\n",
    "if res==n:\n",
    "    print(\"Perfect\")\n",
    "elif n<res:\n",
    "    print(\"abundant\")\n",
    "else:\n",
    "    print(\"deficient\")"
   ]
  },
  {
   "cell_type": "code",
   "execution_count": 8,
   "metadata": {},
   "outputs": [
    {
     "name": "stdout",
     "output_type": "stream",
     "text": [
      "372 is not an Armstrong number\n"
     ]
    }
   ],
   "source": [
    "#Armstrong number\n",
    "#Armstrong number\n",
    "n = int(input())\n",
    "c=0\n",
    "i=n\n",
    "temp = n\n",
    "rem =0\n",
    "s=0\n",
    "while n>0:\n",
    "    c+=1\n",
    "    n=n//10\n",
    "while i>0:\n",
    "    rem=i%10\n",
    "    s+=rem**c\n",
    "    i=i//10\n",
    "if temp == s:\n",
    "    print(f\"{temp} is an Armstrong number\")\n",
    "else:\n",
    "    print(f\"{temp} is not an Armstrong number\")"
   ]
  },
  {
   "cell_type": "markdown",
   "metadata": {},
   "source": [
    "Armstrong Number.py\n",
    "Chocolate stack.py"
   ]
  },
  {
   "cell_type": "code",
   "execution_count": 4,
   "metadata": {},
   "outputs": [
    {
     "name": "stdout",
     "output_type": "stream",
     "text": [
      "120\n",
      "120\n"
     ]
    }
   ],
   "source": [
    "#recursion factorial                       date:12-07-2024\n",
    "def fact(n):\n",
    "    if n==0 or n==1:\n",
    "        return 1\n",
    "    else:\n",
    "        return n*fact(n-1)\n",
    "n=int(input())\n",
    "print(fact(n))\n",
    "#iterative \n",
    "f=1\n",
    "while n>0:\n",
    "    f*=n\n",
    "    n-=1\n",
    "print(f)"
   ]
  },
  {
   "cell_type": "code",
   "execution_count": 6,
   "metadata": {},
   "outputs": [
    {
     "name": "stdout",
     "output_type": "stream",
     "text": [
      "[1, 3, 5, 7, 8, 9, 11, 13]\n"
     ]
    }
   ],
   "source": [
    "#merge two arrays\n",
    "def Merge(a,b):\n",
    "    s=sorted(a+b)\n",
    "    return s\n",
    "a = [1,3,7,9,11]\n",
    "b = [5,8,13]\n",
    "print(Merge(a,b))"
   ]
  },
  {
   "cell_type": "code",
   "execution_count": 43,
   "metadata": {},
   "outputs": [
    {
     "name": "stdout",
     "output_type": "stream",
     "text": [
      "[1, 3, 5, 7, 8, 9, 11, 13]\n"
     ]
    }
   ],
   "source": [
    "#merge two arrays\n",
    "def Merge(a,b):\n",
    "    i=0\n",
    "    j=0\n",
    "    s=[]\n",
    "    while i<len(a) and j<len(b):\n",
    "        if a[i]<b[j]:\n",
    "            s.append(a[i])\n",
    "            i+=1\n",
    "        else:\n",
    "            s.append(b[j])\n",
    "            j+=1 \n",
    "    \"\"\"if i==len(a):\n",
    "        s+=(b[j:])\n",
    "    if j==len(b):\n",
    "        s+=(a[i:])\"\"\"\n",
    "    s+=a[i:]+b[j:]\n",
    "    return s\n",
    "a = [1,3,7,9,11]\n",
    "b = [5,8,13]\n",
    "print(Merge(a,b))"
   ]
  },
  {
   "cell_type": "code",
   "execution_count": 1,
   "metadata": {},
   "outputs": [
    {
     "name": "stdout",
     "output_type": "stream",
     "text": [
      "[1, 3, 5, 7, 8, 9, 11, 13]\n"
     ]
    }
   ],
   "source": [
    "#Merge Sort\n",
    "def Merge(a,b):\n",
    "    i,j=0,0\n",
    "    s=[]\n",
    "    while i<len(a) and j<len(b):\n",
    "        if a[i]<b[j]:\n",
    "            s.append(a[i])\n",
    "            i+=1\n",
    "        else:\n",
    "            s.append(b[j])\n",
    "            j+=1 \n",
    "    s+=a[i:]+b[j:]\n",
    "    return s\n",
    "def MergeSort(a):\n",
    "    n = len(a)//2\n",
    "    if len(a)<2:\n",
    "        return a\n",
    "    l=MergeSort(a[:n])\n",
    "    r=MergeSort(a[n:])\n",
    "    return Merge(l,r)\n",
    "a = [1,3,7,9,11,5,8,13]\n",
    "print(MergeSort(a))"
   ]
  },
  {
   "cell_type": "code",
   "execution_count": 21,
   "metadata": {},
   "outputs": [
    {
     "name": "stdout",
     "output_type": "stream",
     "text": [
      "[1, 2, 3, 4, 5, 6, 7, 8, 9, 10]\n"
     ]
    }
   ],
   "source": [
    "#Quick Sort\n",
    "def QuickSort(arr):\n",
    "    left,mid,right=[],[],[]\n",
    "    n=len(arr)//2\n",
    "    if len(arr)<=1:\n",
    "        return arr\n",
    "    pivot=arr[n]\n",
    "    for i in arr:\n",
    "        if i<pivot:\n",
    "            left.append(i)\n",
    "        elif i>pivot:\n",
    "            right.append(i)\n",
    "        else:\n",
    "            mid.append(i)\n",
    "    return QuickSort(left)+mid+QuickSort(right)\n",
    "arr = [8,4,3,1,6,7,11,9,2,10,5]\n",
    "res=QuickSort(arr)\n",
    "print(res)"
   ]
  },
  {
   "cell_type": "code",
   "execution_count": 1,
   "metadata": {},
   "outputs": [
    {
     "name": "stdout",
     "output_type": "stream",
     "text": [
      "8\n"
     ]
    }
   ],
   "source": [
    "#Binary Search : Iterative Approach\n",
    "def BinSearch(a,key):\n",
    "    low = 0\n",
    "    high =len(a)-1\n",
    "    while low<=high:\n",
    "        mid=(low+high)//2\n",
    "        if a[mid] == key:\n",
    "            return mid\n",
    "        elif key>a[mid]:\n",
    "            low=mid+1\n",
    "        else:\n",
    "            high=mid-1\n",
    "    return -1\n",
    "a = [1,2,3,4,5,6,7,8,9,10]\n",
    "key = int(input('Key: '))\n",
    "n=BinSearch(a,key)\n",
    "print(n)"
   ]
  },
  {
   "cell_type": "code",
   "execution_count": 6,
   "metadata": {},
   "outputs": [
    {
     "name": "stdout",
     "output_type": "stream",
     "text": [
      "0\n"
     ]
    }
   ],
   "source": [
    "#Binary Search : Recursive Approach  Time Complexity:O(log n)\n",
    "def BinSearch(low,high,arr,key):\n",
    "    mid=(low+high)//2\n",
    "    if arr[mid] == key:\n",
    "        return mid\n",
    "    elif key>arr[mid]:\n",
    "        return BinSearch(mid+1,high,arr,key)\n",
    "    else:\n",
    "        return BinSearch(low,mid-1,arr,key)\n",
    "    return -1\n",
    "arr = [1,2,3,4,5,6,7,8,9,10]\n",
    "key = int(input('Key: '))\n",
    "print(BinSearch(0,len(arr)-1,arr,key))"
   ]
  },
  {
   "cell_type": "code",
   "execution_count": 18,
   "metadata": {},
   "outputs": [
    {
     "name": "stdout",
     "output_type": "stream",
     "text": [
      "invalid\n",
      "{'a': 1, 'b': 2, 'c': 1}\n"
     ]
    }
   ],
   "source": [
    "#Checking if the occurences of charracters in string are same or not\n",
    "s=input()\n",
    "d={}\n",
    "for i in s:\n",
    "    if i not in d:\n",
    "        d[i]=1\n",
    "    else:\n",
    "        d[i]+=1\n",
    "for i in d:\n",
    "    if d[i]!=d[s[0]]:\n",
    "        print('invalid')\n",
    "        break\n",
    "else:\n",
    "    print('valid')\n",
    "print(d)"
   ]
  },
  {
   "cell_type": "code",
   "execution_count": 38,
   "metadata": {},
   "outputs": [
    {
     "name": "stdout",
     "output_type": "stream",
     "text": [
      "h a v e \n",
      "a n i c \n",
      "e d a y \n"
     ]
    }
   ],
   "source": [
    "#\n",
    "from math import ceil, floor, sqrt\n",
    "s='have a nice day'\n",
    "s=s.replace(' ','')\n",
    "n=sqrt(len(s))\n",
    "r,c=floor(n),ceil(n)\n",
    "i=0\n",
    "for _ in range(r):\n",
    "    for _ in range(c):\n",
    "        print(s[i],end=' ')\n",
    "        i+=1\n",
    "    print()"
   ]
  },
  {
   "cell_type": "code",
   "execution_count": 45,
   "metadata": {},
   "outputs": [
    {
     "name": "stdout",
     "output_type": "stream",
     "text": [
      "20\n"
     ]
    }
   ],
   "source": [
    "#Watering Plants   date:13-07-2024\n",
    "plants= [1,1,1,4,3,2]\n",
    "capacity = 5\n",
    "k=capacity\n",
    "steps=0\n",
    "for i in range(len(plants)):\n",
    "    if capacity>=plants[i]:\n",
    "        capacity-=plants[i]\n",
    "        steps+=1\n",
    "    else:\n",
    "        steps+=2*i+1\n",
    "        capacity=k\n",
    "        capacity-=plants[i]\n",
    "print(steps)"
   ]
  },
  {
   "cell_type": "code",
   "execution_count": 50,
   "metadata": {},
   "outputs": [
    {
     "name": "stdout",
     "output_type": "stream",
     "text": [
      "[[0, 1, 2, 3], [0, 1, 2, 3]]\n"
     ]
    }
   ],
   "source": [
    "#nested list\n",
    "r=4\n",
    "c=2\n",
    "l=[[j for j in range(r)]for i in range(c)]\n",
    "print(l)"
   ]
  },
  {
   "cell_type": "code",
   "execution_count": null,
   "metadata": {},
   "outputs": [],
   "source": [
    "#Average Waiting time\n",
    "l=[[5,2],[5,6],[6,2],[8,3],[30,4]]\n",
    "for i in range(len(l)):\n",
    "    pass"
   ]
  },
  {
   "cell_type": "code",
   "execution_count": 1,
   "metadata": {},
   "outputs": [
    {
     "name": "stdout",
     "output_type": "stream",
     "text": [
      "5\n",
      "4\n",
      "3\n",
      "2\n",
      "1\n"
     ]
    }
   ],
   "source": [
    "n=5\n",
    "for i in range(n,0,-1):\n",
    "    print(i,end=' ')\n",
    "print(end='')"
   ]
  },
  {
   "cell_type": "code",
   "execution_count": 22,
   "metadata": {},
   "outputs": [
    {
     "name": "stdout",
     "output_type": "stream",
     "text": [
      "517\n",
      "628\n"
     ]
    }
   ],
   "source": [
    "# Caesar cipher\n",
    "s = input()\n",
    "k=int(input())\n",
    "res = \"\"\n",
    "for i in s:\n",
    "    if i.isupper():\n",
    "        res += chr((ord(i)-ord('A')+k)%26+ord('A'))\n",
    "    elif i.islower():\n",
    "        res += chr((ord(i)-ord('a')+k)%26+ord('a'))\n",
    "    elif i.isdigit():\n",
    "        res+=chr((ord(i)+k-48)%10+48)\n",
    "    else:\n",
    "        res+=' '       \n",
    "print(s,res,sep='\\n')"
   ]
  },
  {
   "cell_type": "code",
   "execution_count": null,
   "metadata": {},
   "outputs": [],
   "source": []
  }
 ],
 "metadata": {
  "kernelspec": {
   "display_name": "Python 3",
   "language": "python",
   "name": "python3"
  },
  "language_info": {
   "codemirror_mode": {
    "name": "ipython",
    "version": 3
   },
   "file_extension": ".py",
   "mimetype": "text/x-python",
   "name": "python",
   "nbconvert_exporter": "python",
   "pygments_lexer": "ipython3",
   "version": "3.12.4"
  }
 },
 "nbformat": 4,
 "nbformat_minor": 2
}
