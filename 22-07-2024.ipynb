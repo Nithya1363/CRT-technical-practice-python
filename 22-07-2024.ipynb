{
 "cells": [
  {
   "cell_type": "code",
   "execution_count": 13,
   "metadata": {},
   "outputs": [
    {
     "name": "stdout",
     "output_type": "stream",
     "text": [
      "1 7\n",
      "0 0\n"
     ]
    }
   ],
   "source": [
    "#Question 1\n",
    "t=int(input())\n",
    "for _ in range(t):\n",
    "    n=int(input())\n",
    "    l=list(map(int,input().split()))\n",
    "    min = 10**7\n",
    "    max = 0\n",
    "    for i in l:\n",
    "        if i<min:\n",
    "            min=i\n",
    "        if i>max:\n",
    "            max=i\n",
    "    print(min,max)       "
   ]
  },
  {
   "cell_type": "code",
   "execution_count": 15,
   "metadata": {},
   "outputs": [
    {
     "name": "stdout",
     "output_type": "stream",
     "text": [
      "pair found (8,2)\n"
     ]
    }
   ],
   "source": [
    "#Question 2 Method 1\n",
    "def find(nums,target):\n",
    "    for i in range(len(nums)-1):\n",
    "        for j in range(i+1,len(nums)):\n",
    "            if (nums[i]+nums[j])==target:\n",
    "                print(f\"pair found ({nums[i]},{nums[j]})\")\n",
    "                return\n",
    "        print(\"pair not found\")\n",
    "if __name__=='__main__':\n",
    "    nums=[8,7,2,5,3,1]\n",
    "    target=10\n",
    "    find(nums,target)"
   ]
  },
  {
   "cell_type": "code",
   "execution_count": 22,
   "metadata": {},
   "outputs": [
    {
     "name": "stdout",
     "output_type": "stream",
     "text": [
      "Pair found (2,8)\n"
     ]
    }
   ],
   "source": [
    "#Question 2 Method 2\n",
    "def find(nums,target):\n",
    "    nums.sort()\n",
    "    (low,high)=(0,len(nums)-1)\n",
    "    while low<high:\n",
    "        if nums[low]+nums[high] == target:\n",
    "            print(f\"Pair found ({nums[low]},{nums[high]})\")\n",
    "            return \n",
    "        if nums[low]+nums[high]<target:\n",
    "            low+=1\n",
    "        else:\n",
    "            high-=1\n",
    "    print(\"Pair not found\")\n",
    "if __name__=='__main__':\n",
    "    nums=[8,7,2,5,3,1]\n",
    "    target=10\n",
    "    find(nums,target)"
   ]
  },
  {
   "cell_type": "code",
   "execution_count": 41,
   "metadata": {},
   "outputs": [
    {
     "name": "stdout",
     "output_type": "stream",
     "text": [
      "Sublist exists\n"
     ]
    }
   ],
   "source": [
    "#Question 3\n",
    "def Subarray(a):\n",
    "    s=set()\n",
    "    s.add(0)\n",
    "    tot=0\n",
    "    for i in a:\n",
    "        tot+=i\n",
    "        if tot in s:\n",
    "            return True\n",
    "        s.add(tot)\n",
    "    return False\n",
    "if __name__=='__main__':\n",
    "    a=[3, 4, -7, 3, 1, 3, 1, -4, -2, -2]\n",
    "    if Subarray(a):\n",
    "        print(\"Sublist exists\")\n",
    "    else:\n",
    "        print('Sublist does not exist')"
   ]
  },
  {
   "cell_type": "code",
   "execution_count": 81,
   "metadata": {},
   "outputs": [
    {
     "name": "stdout",
     "output_type": "stream",
     "text": [
      "0 2\n",
      "0 9\n",
      "1 3\n",
      "2 5\n",
      "3 9\n",
      "5 7\n",
      "None\n"
     ]
    }
   ],
   "source": [
    "#Question 4\n",
    "def Subarray(a):\n",
    "    for i in range(len(a)-1):\n",
    "        tot=0\n",
    "        for j in range(i,len(a)):\n",
    "            tot+=a[j]\n",
    "            if tot==0:\n",
    "                print(i,j)\n",
    "if __name__=='__main__':\n",
    "    a=[3, 4, -7, 3, 1, 3, 1, -4, -2, -2]\n",
    "    print(Subarray(a))"
   ]
  },
  {
   "cell_type": "code",
   "execution_count": 86,
   "metadata": {},
   "outputs": [
    {
     "name": "stdout",
     "output_type": "stream",
     "text": [
      "3 5\n",
      "1 7\n",
      "0 9\n"
     ]
    }
   ],
   "source": [
    "def Subarray(a):\n",
    "    tot=0\n",
    "    a.sort()\n",
    "    sum={0:-1}\n",
    "    for i,num in enumerate(a):\n",
    "        tot+=num\n",
    "        if tot in sum:\n",
    "            print(sum[tot]+1,i)\n",
    "        sum.setdefault(tot,i)\n",
    "if __name__=='__main__':\n",
    "    a=[3, 4, -7, 3, 1, 3, 1, -4, -2, -2]\n",
    "    Subarray(a)"
   ]
  },
  {
   "cell_type": "code",
   "execution_count": 90,
   "metadata": {},
   "outputs": [
    {
     "name": "stdout",
     "output_type": "stream",
     "text": [
      "Sublist (0, 6, 9)\n",
      "Sublist (1, 4, 8)\n",
      "Sublist (1, 5, 7)\n",
      "Sublist (2, 2, 9)\n",
      "Sublist (2, 4, 5)\n",
      "Sublist (3, 3, 9)\n",
      "Sublist (3, 4, 5)\n"
     ]
    }
   ],
   "source": [
    "def Subarray(a):\n",
    "    a.sort()\n",
    "    for i in range(len(a)):\n",
    "        l,r=i,len(a)-1\n",
    "        while(l<r):\n",
    "            tot=a[i]+a[l]+a[r]\n",
    "            if tot==0:\n",
    "                print(f\"Sublist {i,l,r}\")\n",
    "                l+=1\n",
    "                r-=1\n",
    "            elif tot<0:\n",
    "                l+=1\n",
    "            else:\n",
    "                r-=1\n",
    "if __name__=='__main__':\n",
    "    a=[3, 4, -7, 3, 1, 3, 1, -4, -2, -2]\n",
    "    Subarray(a)"
   ]
  },
  {
   "cell_type": "code",
   "execution_count": 91,
   "metadata": {},
   "outputs": [
    {
     "name": "stdout",
     "output_type": "stream",
     "text": [
      "13\n",
      "[2, 0, 2, 1, 4, 3, 1]\n"
     ]
    }
   ],
   "source": [
    "#Question 5\n",
    "#Maximum sum sub array\n",
    "l =  [2, 0, 2, 1, 4, 3, 1, 0]\n",
    "s=0\n",
    "m=l[0]\n",
    "max_sub = [l[0]]\n",
    "i=0\n",
    "j=-1\n",
    "for n in l:\n",
    "    s+=n\n",
    "    j+=1\n",
    "    if s<=0:\n",
    "        s=0\n",
    "        i=j+1\n",
    "    elif s>m:\n",
    "        m=s\n",
    "        max_sub=l[i:j+1]\n",
    "print(m)\n",
    "print(max_sub)"
   ]
  },
  {
   "cell_type": "code",
   "execution_count": 112,
   "metadata": {},
   "outputs": [
    {
     "name": "stdout",
     "output_type": "stream",
     "text": [
      "1\n"
     ]
    }
   ],
   "source": [
    "#Question 5\n",
    "t=int(input())\n",
    "r=0\n",
    "for _ in range(t):\n",
    "    n=int(input())\n",
    "    a=[1000,500,100,50,20,10,5,2,1]\n",
    "    i=len(a)-1\n",
    "    c=0\n",
    "    for i in a:\n",
    "        c+=n//i\n",
    "        n%=i\n",
    "        if n==0:\n",
    "            break\n",
    "    print(c)"
   ]
  },
  {
   "cell_type": "code",
   "execution_count": 1,
   "metadata": {},
   "outputs": [
    {
     "name": "stdout",
     "output_type": "stream",
     "text": [
      "3\n"
     ]
    }
   ],
   "source": [
    "def min_deno(n):\n",
    "    deno=[1000,500,100,50,20,10,5,2,1]\n",
    "    c=0\n",
    "    for i in deno:\n",
    "        c+=n//i\n",
    "        n%=i\n",
    "        if n==0:\n",
    "            break\n",
    "    return c\n",
    "t=int(input())\n",
    "for _ in range(t):\n",
    "    n=int(input())\n",
    "    res=min_deno(n)\n",
    "    print(res)"
   ]
  },
  {
   "cell_type": "code",
   "execution_count": 13,
   "metadata": {},
   "outputs": [
    {
     "name": "stdout",
     "output_type": "stream",
     "text": [
      "Yes\n"
     ]
    }
   ],
   "source": [
    "#Question 6  date:23-07-2024\n",
    "def Quad(x,y):\n",
    "    dist_12=(x[0]-x[1])**2+(y[0]-y[1])**2\n",
    "    dist_34=(x[2]-x[3])**2+(y[2]-y[3])**2\n",
    "\n",
    "    midx_12=(x[0]+x[1])//2\n",
    "    midy_12=(y[0]+y[1])//2\n",
    "    midx_34=(x[2]+x[3])//2\n",
    "    midy_34=(y[2]+y[3])//2\n",
    "    \n",
    "    if dist_12==dist_34 and midx_12==midx_34 and midy_12==midy_34:\n",
    "        print(\"Yes\")\n",
    "        return\n",
    "    else:\n",
    "        print(\"NO\")\n",
    "\n",
    "if __name__==\"__main__\": \n",
    "    t=int(input())\n",
    "    for i in range(t):\n",
    "        a=input().split()\n",
    "        x=[int(a[i])for i in range(0,len(a),2)]\n",
    "        y=[int(a[i])for i in range(1,len(a),2)]\n",
    "        Quad(x,y)"
   ]
  },
  {
   "cell_type": "code",
   "execution_count": 14,
   "metadata": {},
   "outputs": [
    {
     "name": "stdout",
     "output_type": "stream",
     "text": [
      "1 3\n"
     ]
    }
   ],
   "source": [
    "t = int(input())\n",
    "eng = []\n",
    "hin = []\n",
    "for _ in range(t):\n",
    "    n = int(input())\n",
    "    arr = list(map(int,input().split()))\n",
    "    i = 0\n",
    "    for i in range(len(arr)):\n",
    "        if arr[i]%2==0:\n",
    "            hin.append(arr[i])\n",
    "        else:\n",
    "            eng.append(arr[i])\n",
    "    print(*eng)\n",
    "    eng = []"
   ]
  },
  {
   "cell_type": "code",
   "execution_count": 30,
   "metadata": {},
   "outputs": [
    {
     "name": "stdout",
     "output_type": "stream",
     "text": [
      "<built-in method items of dict object at 0x0000024659564AC0>\n",
      "<built-in method items of dict object at 0x0000024659564AC0>\n"
     ]
    }
   ],
   "source": [
    "n=int(input())\n",
    "l={}\n",
    "for _ in range(n):\n",
    "    s=int(input())\n",
    "    if s not in l:\n",
    "        l[s]=1\n",
    "    else:\n",
    "        l[s]+=1\n",
    "for i in l.values():\n",
    "    if i==1:\n",
    "       print(l.items)\n"
   ]
  },
  {
   "cell_type": "code",
   "execution_count": 57,
   "metadata": {},
   "outputs": [
    {
     "name": "stdout",
     "output_type": "stream",
     "text": [
      "3 4\n",
      "12\n"
     ]
    }
   ],
   "source": [
    "a=list(map(int,input().split()))\n",
    "max=0\n",
    "for i in range(len(a)-1):\n",
    "    for j in range(i+1,len(a)):\n",
    "        if a[i]*a[j]>max:\n",
    "            max=a[i]*a[j]\n",
    "print(a[i],a[j])\n",
    "print(max)"
   ]
  },
  {
   "cell_type": "code",
   "execution_count": 58,
   "metadata": {},
   "outputs": [
    {
     "name": "stdout",
     "output_type": "stream",
     "text": [
      "(4, [1, 1])\n"
     ]
    }
   ],
   "source": [
    "def Maxprod(a):\n",
    "    i=0\n",
    "    j=len(a)-1\n",
    "    max=0\n",
    "    while(j>i):\n",
    "        if a[i]*a[j]>max:\n",
    "            max=a[i]*a[j]\n",
    "        i+=1\n",
    "    return (max),[a[i],a[j]]\n",
    "if __name__=='__main__':\n",
    "    a=list(map(int,input().split()))\n",
    "    print(Maxprod(a))"
   ]
  },
  {
   "cell_type": "code",
   "execution_count": 50,
   "metadata": {},
   "outputs": [
    {
     "name": "stdout",
     "output_type": "stream",
     "text": [
      "12\n"
     ]
    }
   ],
   "source": [
    "a=list(map(int,input().split()))\n",
    "a.sort()\n",
    "print(a[len(a)-2]*a[len(a)-1])"
   ]
  },
  {
   "cell_type": "code",
   "execution_count": null,
   "metadata": {},
   "outputs": [],
   "source": [
    "import sys\n",
    "def findMaximumProduct(A):\n",
    "    if len(A) < 2:\n",
    "        return\n",
    " \n",
    "    max_product = -sys.maxsize\n",
    "    max_i = max_j = -1\n",
    " \n",
    "    for i in range(len(A) - 1):\n",
    "        for j in range(i + 1, len(A)):\n",
    "            if max_product < A[i] * A[j]:\n",
    "                max_product = A[i] * A[j]\n",
    "                (max_i, max_j) = (i, j)\n",
    " \n",
    "    print(\"Pair is\", (A[max_i], A[max_j]))\n",
    " \n",
    " \n",
    "if __name__ == '__main__':\n",
    " \n",
    "    A = [-10, -3, 5, 6, -2]\n",
    "    findMaximumProduct(A)\n",
    " \n",
    "\n",
    "\n",
    "'''def findMaximumProduct(A):\n",
    "    n = len(A)\n",
    "    if n < 2:\n",
    "        return\n",
    " \n",
    "    A.sort()\n",
    "    if (A[0] * A[1]) > (A[n - 1] * A[n - 2]):\n",
    "        print(\"Pair is\", (A[0], A[1]))\n",
    "    else:\n",
    "        print(\"Pair is\", (A[n - 1], A[n - 2]))\n",
    " \n",
    "if __name__ == '__main__':\n",
    "    A = [-10, -3, 5, 6, -20]\n",
    "    findMaximumProduct(A)'''\n",
    "   \n",
    "'''import sys\n",
    "def findMaximumProduct(A):\n",
    "    max1 = A[0]\n",
    "    max2 = -sys.maxsize\n",
    " \n",
    "    min1 = A[0]\n",
    "    min2 = sys.maxsize\n",
    " \n",
    "    for i in range(1, len(A)):\n",
    " \n",
    "        if A[i] > max1:\n",
    "            max2 = max1\n",
    "            max1 = A[i]\n",
    " \n",
    "\n",
    "        elif A[i] > max2:\n",
    "            max2 = A[i]\n",
    " \n",
    "        if A[i] < min1:\n",
    "            min2 = min1\n",
    "            min1 = A[i]\n",
    " \n",
    "        elif A[i] < min2:\n",
    "            min2 = A[i]\n",
    " \n",
    "    if max1 * max2 > min1 * min2:\n",
    "        print(\"Pair is\", (max1, max2))\n",
    "    else:\n",
    "        print(\"Pair is\", (min1, min2))\n",
    " \n",
    " \n",
    "if __name__ == '__main__':\n",
    " \n",
    "    A = [-10, -3, 5, 6, -2]\n",
    "    findMaximumProduct(A)'''"
   ]
  },
  {
   "cell_type": "code",
   "execution_count": 60,
   "metadata": {},
   "outputs": [
    {
     "name": "stdout",
     "output_type": "stream",
     "text": [
      "True\n"
     ]
    }
   ],
   "source": [
    "n=int(input())\n",
    "k=n\n",
    "r=0\n",
    "rev=0\n",
    "while n!=0:\n",
    "    r=n%10\n",
    "    rev=rev*10+r\n",
    "    n//=10\n",
    "if k==rev:\n",
    "    print(True)\n",
    "else:\n",
    "    print(False)"
   ]
  },
  {
   "cell_type": "code",
   "execution_count": null,
   "metadata": {},
   "outputs": [],
   "source": []
  }
 ],
 "metadata": {
  "kernelspec": {
   "display_name": "Python 3",
   "language": "python",
   "name": "python3"
  },
  "language_info": {
   "codemirror_mode": {
    "name": "ipython",
    "version": 3
   },
   "file_extension": ".py",
   "mimetype": "text/x-python",
   "name": "python",
   "nbconvert_exporter": "python",
   "pygments_lexer": "ipython3",
   "version": "3.12.4"
  }
 },
 "nbformat": 4,
 "nbformat_minor": 2
}
