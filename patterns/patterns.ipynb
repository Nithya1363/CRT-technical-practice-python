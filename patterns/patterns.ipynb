{
 "cells": [
  {
   "cell_type": "code",
   "execution_count": 3,
   "metadata": {},
   "outputs": [
    {
     "name": "stdout",
     "output_type": "stream",
     "text": [
      "0 1 2 3 4 \n",
      "0 1 2 3 4 \n",
      "0 1 2 3 4 \n",
      "0 1 2 3 4 \n",
      "0 1 2 3 4 \n"
     ]
    }
   ],
   "source": [
    "#1\n",
    "\"\"\"\n",
    "0 1 2 3 4 \n",
    "0 1 2 3 4 \n",
    "0 1 2 3 4 \n",
    "0 1 2 3 4 \n",
    "0 1 2 3 4 \n",
    "\"\"\"\n",
    "n=5\n",
    "for i in range(n):\n",
    "    for j in range(n):\n",
    "        print(j,end=' ')\n",
    "    print()"
   ]
  },
  {
   "cell_type": "code",
   "execution_count": 4,
   "metadata": {},
   "outputs": [
    {
     "name": "stdout",
     "output_type": "stream",
     "text": [
      "1 2 3 4 5 \n",
      "6 7 8 9 10 \n",
      "11 12 13 14 15 \n",
      "16 17 18 19 20 \n",
      "21 22 23 24 25 \n"
     ]
    }
   ],
   "source": [
    "#2\n",
    "\"\"\"\n",
    "1 2 3 4 5 \n",
    "6 7 8 9 10 \n",
    "11 12 13 14 15 \n",
    "16 17 18 19 20 \n",
    "21 22 23 24 25 \"\"\"\n",
    "n=5\n",
    "num=1\n",
    "for i in range(n):\n",
    "    for j in range(n):\n",
    "        print(num,end=' ')\n",
    "        num+=1\n",
    "    print()"
   ]
  },
  {
   "cell_type": "code",
   "execution_count": 6,
   "metadata": {},
   "outputs": [
    {
     "name": "stdout",
     "output_type": "stream",
     "text": [
      "\n",
      "0 \n",
      "0 1 \n",
      "0 1 2 \n",
      "0 1 2 3 \n"
     ]
    }
   ],
   "source": [
    "#3\n",
    "\"\"\" \n",
    "\n",
    "0 \n",
    "0 1 \n",
    "0 1 2 \n",
    "0 1 2 3 \n",
    "\"\"\"\n",
    "n=5\n",
    "for i in range(n):\n",
    "    for j in range(i):\n",
    "        print(j,end=' ')\n",
    "    print()"
   ]
  },
  {
   "cell_type": "code",
   "execution_count": 5,
   "metadata": {},
   "outputs": [
    {
     "name": "stdout",
     "output_type": "stream",
     "text": [
      "\n",
      "1 \n",
      "2 3 \n",
      "4 5 6 \n",
      "7 8 9 10 \n"
     ]
    }
   ],
   "source": [
    "#4\n",
    "\"\"\" \n",
    "1 \n",
    "2 3 \n",
    "4 5 6 \n",
    "7 8 9 10 \n",
    "\"\"\"\n",
    "n=5\n",
    "num=1\n",
    "for i in range(n):\n",
    "    for j in range(i):\n",
    "        print(num,end=' ')\n",
    "        num+=1\n",
    "    print()"
   ]
  },
  {
   "cell_type": "code",
   "execution_count": 13,
   "metadata": {},
   "outputs": [
    {
     "name": "stdout",
     "output_type": "stream",
     "text": [
      "0 1 2 3 4 \n",
      "0 1 2 3 \n",
      "0 1 2 \n",
      "0 1 \n",
      "0 \n"
     ]
    }
   ],
   "source": [
    "#5\n",
    "\"\"\"\n",
    "0 1 2 3 4 \n",
    "0 1 2 3 \n",
    "0 1 2 \n",
    "0 1 \n",
    "0 \n",
    "\"\"\"\n",
    "for i in range(5,0,-1):\n",
    "    for j in range(i):\n",
    "        print(j,end=' ')\n",
    "    print()"
   ]
  },
  {
   "cell_type": "code",
   "execution_count": 19,
   "metadata": {},
   "outputs": [
    {
     "name": "stdout",
     "output_type": "stream",
     "text": [
      "0  1  0  1  0  \n",
      "0  0  0  0  0  \n",
      "0  1  0  1  0  \n",
      "0  0  0  0  0  \n",
      "0  1  0  1  0  \n"
     ]
    }
   ],
   "source": [
    "#6\n",
    "\"\"\" \n",
    "0  1  0  1  0  \n",
    "0  0  0  0  0  \n",
    "0  1  0  1  0  \n",
    "0  0  0  0  0  \n",
    "0  1  0  1  0  \n",
    "\"\"\"\n",
    "n=5\n",
    "for i in range(1,n+1):\n",
    "    for j in range(0,n):\n",
    "        print(str((i*j)%2)+' ',end=' ')\n",
    "    print()"
   ]
  },
  {
   "cell_type": "code",
   "execution_count": 23,
   "metadata": {},
   "outputs": [
    {
     "name": "stdout",
     "output_type": "stream",
     "text": [
      "0 0 0 0 0 \n",
      "1 1 1 1 1 \n",
      "0 0 0 0 0 \n",
      "1 1 1 1 1 \n",
      "0 0 0 0 0 \n"
     ]
    }
   ],
   "source": [
    "#7\n",
    "\"\"\"\n",
    "0 0 0 0 0 \n",
    "1 1 1 1 1 \n",
    "0 0 0 0 0 \n",
    "1 1 1 1 1 \n",
    "0 0 0 0 0  \n",
    "\"\"\"\n",
    "n=5\n",
    "for i in range(1,n+1):\n",
    "    for j in range(0,n):\n",
    "        if i%2==0:\n",
    "            print(1,end=' ')\n",
    "        else:\n",
    "            print(0,end=' ')\n",
    "    print()"
   ]
  },
  {
   "cell_type": "code",
   "execution_count": 33,
   "metadata": {},
   "outputs": [
    {
     "name": "stdout",
     "output_type": "stream",
     "text": [
      "A A A A A \n",
      "B B B B B \n",
      "C C C C C \n",
      "D D D D D \n",
      "E E E E E \n"
     ]
    }
   ],
   "source": [
    "#8\n",
    "\"\"\" \n",
    "A A A A A \n",
    "B B B B B \n",
    "C C C C C \n",
    "D D D D D \n",
    "E E E E E \n",
    "\"\"\"\n",
    "n=5\n",
    "s=65\n",
    "for i in range(n):\n",
    "    for j in range(n):\n",
    "        print(chr(s),end=' ')\n",
    "    s+=1\n",
    "    print()"
   ]
  },
  {
   "cell_type": "code",
   "execution_count": 36,
   "metadata": {},
   "outputs": [
    {
     "name": "stdout",
     "output_type": "stream",
     "text": [
      "E E E E E \n",
      "D D D D D \n",
      "C C C C C \n",
      "B B B B B \n",
      "A A A A A \n"
     ]
    }
   ],
   "source": [
    "#9\n",
    "\"\"\"\n",
    "E E E E E \n",
    "D D D D D \n",
    "C C C C C \n",
    "B B B B B \n",
    "A A A A A \n",
    "\"\"\"\n",
    "n=5\n",
    "s=69\n",
    "for i in range(n):\n",
    "    for j in range(n):\n",
    "        print(chr(s),end=' ')\n",
    "    s-=1\n",
    "    print()"
   ]
  },
  {
   "cell_type": "code",
   "execution_count": 37,
   "metadata": {},
   "outputs": [
    {
     "name": "stdout",
     "output_type": "stream",
     "text": [
      "A B C D E \n",
      "F G H I J \n",
      "K L M N O \n",
      "P Q R S T \n",
      "U V W X Y \n"
     ]
    }
   ],
   "source": [
    "#10\n",
    "\"\"\" \n",
    "A B C D E \n",
    "F G H I J \n",
    "K L M N O \n",
    "P Q R S T \n",
    "U V W X Y \n",
    "\"\"\"\n",
    "n=5\n",
    "s=65\n",
    "for i in range(n):\n",
    "    for j in range(n):\n",
    "        print(chr(s),end=' ')\n",
    "        s+=1\n",
    "    print()"
   ]
  },
  {
   "cell_type": "code",
   "execution_count": 43,
   "metadata": {},
   "outputs": [
    {
     "name": "stdout",
     "output_type": "stream",
     "text": [
      "A B C D E \n",
      "B C D E F \n",
      "C D E F G \n",
      "D E F G H \n",
      "E F G H I \n"
     ]
    }
   ],
   "source": [
    "#11\n",
    "\"\"\" \n",
    "A B C D E \n",
    "B C D E F \n",
    "C D E F G \n",
    "D E F G H \n",
    "E F G H I \n",
    "\"\"\"\n",
    "n=5\n",
    "s=65\n",
    "for i in range(n):\n",
    "    for j in range(n):\n",
    "        print(chr(s),end=' ')\n",
    "        s+=1\n",
    "    s-=4\n",
    "    print()"
   ]
  },
  {
   "cell_type": "code",
   "execution_count": 77,
   "metadata": {},
   "outputs": [
    {
     "name": "stdout",
     "output_type": "stream",
     "text": [
      "A F K P U \n",
      "B G L Q V \n",
      "C H M R W \n",
      "D I N S X \n",
      "E J O T Y \n"
     ]
    }
   ],
   "source": [
    "#12\n",
    "\"\"\" \n",
    "A F K P U \n",
    "B G L Q V \n",
    "C H M R W \n",
    "D I N S X \n",
    "E J O T Y \n",
    "\"\"\"\n",
    "n=5\n",
    "s=65\n",
    "for i in range(n):\n",
    "    for j in range(n):\n",
    "        print(chr(s),end=' ')\n",
    "        s+=5\n",
    "    s-=24\n",
    "    print()"
   ]
  },
  {
   "cell_type": "code",
   "execution_count": 76,
   "metadata": {},
   "outputs": [
    {
     "name": "stdout",
     "output_type": "stream",
     "text": [
      "1 \n",
      "3 2 \n",
      "6 5 4 \n",
      "10 9 8 7 \n"
     ]
    }
   ],
   "source": [
    "#13\n",
    "\"\"\" \n",
    "1 \n",
    "3 2 \n",
    "6 5 4 \n",
    "10 9 8 7 \n",
    "\"\"\"\n",
    "n=4\n",
    "num=0\n",
    "for i in range(1,n+1):\n",
    "    num+=i\n",
    "    for j in range(num,num-i,-1):\n",
    "        print(str(j)+' ',end='')\n",
    "    print()"
   ]
  },
  {
   "cell_type": "code",
   "execution_count": 126,
   "metadata": {},
   "outputs": [
    {
     "name": "stdout",
     "output_type": "stream",
     "text": [
      "1 \n",
      "2 4 \n",
      "3 6 9 \n",
      "4 8 12 16 \n",
      "5 10 15 20 25 \n"
     ]
    }
   ],
   "source": [
    "#14\n",
    "\"\"\" \n",
    "1 \n",
    "2 4 \n",
    "3 6 9 \n",
    "4 8 12 16 \n",
    "5 10 15 20 25 \n",
    "\"\"\"\n",
    "n=5\n",
    "for i in range(1,n+1):\n",
    "    for j in range(i):\n",
    "        print((j+1)*i,end=' ')\n",
    "    print()"
   ]
  },
  {
   "cell_type": "code",
   "execution_count": 130,
   "metadata": {},
   "outputs": [
    {
     "name": "stdout",
     "output_type": "stream",
     "text": [
      "5 \n",
      "6 4 \n",
      "12 7 3 \n",
      "13 11 8 2 \n",
      "15 14 10 9 1 \n"
     ]
    },
    {
     "data": {
      "text/plain": [
       "'n = 5\\nd = 1\\ne = n\\nfor x in range(n, 0, -1):\\n    t1 = d\\n    t2 = e\\n    r1 = x\\n    r2 = x + 1\\n    for y in range(n, x - 1, -1):\\n        if (x + y) % 2 == 1:\\n            print(\"{:2d} \".format(t1), end=\"\")\\n        else:\\n            print(\"{:2d} \".format(t2), end=\"\")\\n        t1 = t1 - r1\\n        t2 = t2 - r2\\n        r1 = r1 + 1\\n        r2 = r2 + 1\\n    e = e + x - 1\\n    d = d + x\\n    print()'"
      ]
     },
     "execution_count": 130,
     "metadata": {},
     "output_type": "execute_result"
    }
   ],
   "source": [
    "#15\n",
    "\"\"\" \n",
    "5 \n",
    "6 4 \n",
    "12 7 3 \n",
    "13 11 8 2 \n",
    "15 14 10 9 1 \n",
    "\"\"\"\n",
    "n=5\n",
    "d=1\n",
    "e=n\n",
    "for i in range(n,0,-1):\n",
    "    t1=d\n",
    "    t2=e\n",
    "    r1=i\n",
    "    r2=i+1\n",
    "    for j in range(n,i-1,-1):\n",
    "        if (i+j)%2==1:\n",
    "            print(f\"{t1}\",end=' ')\n",
    "        else:\n",
    "            print(f\"{t2}\",end=' ')\n",
    "        t1=t1-r1\n",
    "        t2=t2-r2\n",
    "        r1=r1+1\n",
    "        r2=r2+1\n",
    "    e=e+i-1\n",
    "    d=d+i\n",
    "    print()\n",
    "\"\"\"n = 5\n",
    "d = 1\n",
    "e = n\n",
    "for x in range(n, 0, -1):\n",
    "    t1 = d\n",
    "    t2 = e\n",
    "    r1 = x\n",
    "    r2 = x + 1\n",
    "    for y in range(n, x - 1, -1):\n",
    "        if (x + y) % 2 == 1:\n",
    "            print(\"{:2d} \".format(t1), end=\"\")\n",
    "        else:\n",
    "            print(\"{:2d} \".format(t2), end=\"\")\n",
    "        t1 = t1 - r1\n",
    "        t2 = t2 - r2\n",
    "        r1 = r1 + 1\n",
    "        r2 = r2 + 1\n",
    "    e = e + x - 1\n",
    "    d = d + x\n",
    "    print()\"\"\""
   ]
  },
  {
   "cell_type": "code",
   "execution_count": 1,
   "metadata": {},
   "outputs": [
    {
     "name": "stdout",
     "output_type": "stream",
     "text": [
      "1 1 1 1 1 \n",
      "0 0 0 0 \n",
      "1 1 1 \n",
      "0 0 \n",
      "1 \n"
     ]
    }
   ],
   "source": [
    "#16\n",
    "\"\"\" \n",
    "1 1 1 1 1 \n",
    "0 0 0 0 \n",
    "1 1 1 \n",
    "0 0 \n",
    "1 \n",
    "\"\"\"\n",
    "n=5\n",
    "for i in range(1,n+1):\n",
    "    for j in range(n,i-1,-1):\n",
    "        print(str(i%2)+\" \",end='')\n",
    "    print()"
   ]
  },
  {
   "cell_type": "code",
   "execution_count": 3,
   "metadata": {},
   "outputs": [
    {
     "name": "stdout",
     "output_type": "stream",
     "text": [
      "0 1 0 1 0 \n",
      "1 0 1 0 \n",
      "0 1 0 \n",
      "1 0 \n",
      "0 \n"
     ]
    }
   ],
   "source": [
    "#17\n",
    "\"\"\" \n",
    "0 1 0 1 0 \n",
    "1 0 1 0 \n",
    "0 1 0 \n",
    "1 0 \n",
    "0 \n",
    "\"\"\"\n",
    "n=5\n",
    "for i in range(1,n+1):\n",
    "    for j in range(n,i-1,-1):\n",
    "        print(str((i+j)%2)+\" \",end='')\n",
    "    print()"
   ]
  },
  {
   "cell_type": "code",
   "execution_count": 23,
   "metadata": {},
   "outputs": [
    {
     "name": "stdout",
     "output_type": "stream",
     "text": [
      "E D C B A \n",
      "F E D C \n",
      "G F E \n",
      "H G \n",
      "I \n"
     ]
    }
   ],
   "source": [
    "#18\n",
    "\"\"\" \n",
    "E D C B A \n",
    "F E D C \n",
    "G F E \n",
    "H G \n",
    "I \n",
    "\"\"\"\n",
    "n=5\n",
    "for i in range(1,n+1):\n",
    "    for j in range(1,n-i+2):\n",
    "        print(chr(n-j+i+64),end=' ')\n",
    "    print()"
   ]
  },
  {
   "cell_type": "code",
   "execution_count": 55,
   "metadata": {},
   "outputs": [
    {
     "name": "stdout",
     "output_type": "stream",
     "text": [
      "    1 \n",
      "   2 2 \n",
      "  3 3 3 \n",
      " 4 4 4 4 \n",
      "5 5 5 5 5 \n"
     ]
    }
   ],
   "source": [
    "#19\n",
    "\"\"\" \n",
    "    1 \n",
    "   2 2 \n",
    "  3 3 3 \n",
    " 4 4 4 4 \n",
    "5 5 5 5 5 \n",
    "\"\"\"\n",
    "n=5\n",
    "for i in range(1,n+1):\n",
    "    for j in range(n,i,-1):\n",
    "        print(' ',end=\"\")\n",
    "    for k in range(0,i):\n",
    "        print(str(i)+' ',end='')\n",
    "    print()"
   ]
  },
  {
   "cell_type": "code",
   "execution_count": 62,
   "metadata": {},
   "outputs": [
    {
     "name": "stdout",
     "output_type": "stream",
     "text": [
      "    1 \n",
      "   1 2 \n",
      "  1 2 3 \n",
      " 1 2 3 4 \n",
      "1 2 3 4 5 \n"
     ]
    }
   ],
   "source": [
    "#20\n",
    "\"\"\" \n",
    "    1 \n",
    "   1 2 \n",
    "  1 2 3 \n",
    " 1 2 3 4 \n",
    "1 2 3 4 5 \n",
    "\"\"\"\n",
    "n=5\n",
    "for i in range(1,n+1):\n",
    "    for j in range(n,i,-1):\n",
    "        print(' ',end=\"\")\n",
    "    for k in range(1,i+1):\n",
    "        print(str(k)+' ',end='')\n",
    "    print()"
   ]
  },
  {
   "cell_type": "code",
   "execution_count": 66,
   "metadata": {},
   "outputs": [
    {
     "name": "stdout",
     "output_type": "stream",
     "text": [
      "*\n",
      "**\n",
      "***\n",
      "****\n",
      "*****\n",
      "\n"
     ]
    }
   ],
   "source": [
    "#20.5\n",
    "\"\"\" \n",
    "*\n",
    "**\n",
    "***\n",
    "****\n",
    "*****\n",
    "\"\"\"\n",
    "n=5\n",
    "for i in range(1,n+1):\n",
    "    print(\"*\"*i)\n",
    "print()"
   ]
  },
  {
   "cell_type": "code",
   "execution_count": 72,
   "metadata": {},
   "outputs": [
    {
     "name": "stdout",
     "output_type": "stream",
     "text": [
      "    1 \n",
      "   2 1 \n",
      "  3 2 1 \n",
      " 4 3 2 1 \n",
      "5 4 3 2 1 \n"
     ]
    }
   ],
   "source": [
    "#21\n",
    "\"\"\" \n",
    "    1 \n",
    "   2 1 \n",
    "  3 2 1 \n",
    " 4 3 2 1 \n",
    "5 4 3 2 1\n",
    "\"\"\"\n",
    "n=5\n",
    "for i in range(1,n+1):\n",
    "    for j in range(n,i,-1):\n",
    "        print(' ',end=\"\")\n",
    "    for k in range(i,0,-1):\n",
    "        print(str(k)+' ',end='')\n",
    "    print()"
   ]
  },
  {
   "cell_type": "code",
   "execution_count": 73,
   "metadata": {},
   "outputs": [
    {
     "name": "stdout",
     "output_type": "stream",
     "text": [
      "4 4 4 4 4 4 4 \n",
      "4 3 3 3 3 3 4 \n",
      "4 3 2 2 2 3 4 \n",
      "4 3 2 1 2 3 4 \n",
      "4 3 2 2 2 3 4 \n",
      "4 3 3 3 3 3 4 \n",
      "4 4 4 4 4 4 4 \n"
     ]
    }
   ],
   "source": [
    "#22\n",
    "\"\"\" \n",
    "4 4 4 4 4 4 4 \n",
    "4 3 3 3 3 3 4 \n",
    "4 3 2 2 2 3 4 \n",
    "4 3 2 1 2 3 4 \n",
    "4 3 2 2 2 3 4 \n",
    "4 3 3 3 3 3 4 \n",
    "4 4 4 4 4 4 4 \n",
    "\"\"\"\n",
    "n=int(input())\n",
    "s = 2 * n - 1\n",
    "for i in range(0, int(s/2)):\n",
    "    m = n\n",
    "    for j in range(0, i):      \n",
    "        print(m ,end= \" \" )\n",
    "        m-=1\n",
    "    for k in range(0, s - 2 * i):\n",
    "        print(n-i ,end= \" \" )\n",
    "    m = n - i + 1\n",
    "    for l in range(0, i):\n",
    "        print(m ,end= \" \" )\n",
    "        m+=1\n",
    "    print(\"\")\n",
    "for i in range(int(s /2),-1,-1):\n",
    "    m = n\n",
    "    for j in range(0, i):\n",
    "        print(m ,end= \" \" )\n",
    "        m-=1\n",
    "    for k in range(0, s - 2 * i):\n",
    "        print(n-i ,end= \" \" )\n",
    "    m = n - i + 1\n",
    "    for l in range(0, i):\n",
    "        print(m ,end= \" \" )\n",
    "        m+=1\n",
    "    print(\"\")\n"
   ]
  }
 ],
 "metadata": {
  "kernelspec": {
   "display_name": "Python 3",
   "language": "python",
   "name": "python3"
  },
  "language_info": {
   "codemirror_mode": {
    "name": "ipython",
    "version": 3
   },
   "file_extension": ".py",
   "mimetype": "text/x-python",
   "name": "python",
   "nbconvert_exporter": "python",
   "pygments_lexer": "ipython3",
   "version": "3.12.4"
  }
 },
 "nbformat": 4,
 "nbformat_minor": 2
}
